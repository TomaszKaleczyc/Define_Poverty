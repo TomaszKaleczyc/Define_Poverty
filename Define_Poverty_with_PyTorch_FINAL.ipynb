{
  "cells": [
    {
      "metadata": {
        "_uuid": "b97395ec4e55cd38ca7fe618eb6187632d16edd0"
      },
      "cell_type": "markdown",
      "source": "## Problem Statement"
    },
    {
      "metadata": {
        "_uuid": "b1010721a315dc6c118bd29a63a89940761fb5c2"
      },
      "cell_type": "markdown",
      "source": "This kernel focuses on solving a problem as outlined by the [Costa Rican Household Poverty Level Prediction](https://www.kaggle.com/c/costa-rican-household-poverty-prediction) Kaggle competition.\n\nAs per the competition overview page:\n> The Inter-American Development Bank is asking the Kaggle community for help with income qualification for some of the world's poorest families. Are you up for the challenge?\n\nMost certainly - let's do this!"
    },
    {
      "metadata": {
        "_uuid": "d391b278e05a79a7ef581731a982f6bf7fea8395"
      },
      "cell_type": "markdown",
      "source": "## Imports"
    },
    {
      "metadata": {
        "_uuid": "8f2839f25d086af736a60e9eeb907d3b93b6e0e5",
        "_cell_guid": "b1076dfc-b9ad-4769-8c92-a6c4dae69d19",
        "trusted": true
      },
      "cell_type": "code",
      "source": "import numpy as np\nimport pandas as pd\nfrom pandas.api.types import CategoricalDtype\nfrom math import sqrt\n\nimport matplotlib.pyplot as plt\nfrom matplotlib import cm\nimport seaborn as sns\n\nfrom matplotlib import style\nstyle.use('seaborn')\n\nimport os\nprint(os.listdir(\"../input\"))\n\n%matplotlib inline\npd.options.display.float_format = '{:,.2f}'.format\n\nrandom_state = 5",
      "execution_count": 345,
      "outputs": [
        {
          "output_type": "stream",
          "text": "['train.csv', 'sample_submission.csv', 'test.csv']\n",
          "name": "stdout"
        }
      ]
    },
    {
      "metadata": {
        "_uuid": "e833d40e50647ce0b95ee6e74875b72a7d859d2e"
      },
      "cell_type": "markdown",
      "source": "## Getting the Data"
    },
    {
      "metadata": {
        "_cell_guid": "79c7e3d0-c299-4dcb-8224-4455121ee9b0",
        "collapsed": true,
        "_uuid": "d629ff2d2480ee46fbb7e2d37f6b5fab8052498a",
        "trusted": true
      },
      "cell_type": "code",
      "source": "PATH = '../input/'",
      "execution_count": 346,
      "outputs": []
    },
    {
      "metadata": {
        "trusted": true,
        "_uuid": "01141f4f51a6a85551b7438f139c4eb9fc0c5197"
      },
      "cell_type": "code",
      "source": "files = ['train', 'test', 'sample_submission']\ntabs = [pd.read_csv(f'{PATH}{f}.csv', low_memory=False) for f in files]\nfor t in tabs: display(t.head())",
      "execution_count": 347,
      "outputs": [
        {
          "output_type": "display_data",
          "data": {
            "text/plain": "             Id       v2a1  hacdor  rooms  hacapo  v14a  refrig  v18q  v18q1  \\\n0  ID_279628684 190,000.00       0      3       0     1       1     0    nan   \n1  ID_f29eb3ddd 135,000.00       0      4       0     1       1     1   1.00   \n2  ID_68de51c94        nan       0      8       0     1       1     0    nan   \n3  ID_d671db89c 180,000.00       0      5       0     1       1     1   1.00   \n4  ID_d56d6f5f5 180,000.00       0      5       0     1       1     1   1.00   \n\n   r4h1   ...    SQBescolari  SQBage  SQBhogar_total  SQBedjefe  SQBhogar_nin  \\\n0     0   ...            100    1849               1        100             0   \n1     0   ...            144    4489               1        144             0   \n2     0   ...            121    8464               1          0             0   \n3     0   ...             81     289              16        121             4   \n4     0   ...            121    1369              16        121             4   \n\n   SQBovercrowding  SQBdependency  SQBmeaned  agesq  Target  \n0             1.00           0.00     100.00   1849       4  \n1             1.00          64.00     144.00   4489       4  \n2             0.25          64.00     121.00   8464       4  \n3             1.78           1.00     121.00    289       4  \n4             1.78           1.00     121.00   1369       4  \n\n[5 rows x 143 columns]",
            "text/html": "<div>\n<style scoped>\n    .dataframe tbody tr th:only-of-type {\n        vertical-align: middle;\n    }\n\n    .dataframe tbody tr th {\n        vertical-align: top;\n    }\n\n    .dataframe thead th {\n        text-align: right;\n    }\n</style>\n<table border=\"1\" class=\"dataframe\">\n  <thead>\n    <tr style=\"text-align: right;\">\n      <th></th>\n      <th>Id</th>\n      <th>v2a1</th>\n      <th>hacdor</th>\n      <th>rooms</th>\n      <th>hacapo</th>\n      <th>v14a</th>\n      <th>refrig</th>\n      <th>v18q</th>\n      <th>v18q1</th>\n      <th>r4h1</th>\n      <th>...</th>\n      <th>SQBescolari</th>\n      <th>SQBage</th>\n      <th>SQBhogar_total</th>\n      <th>SQBedjefe</th>\n      <th>SQBhogar_nin</th>\n      <th>SQBovercrowding</th>\n      <th>SQBdependency</th>\n      <th>SQBmeaned</th>\n      <th>agesq</th>\n      <th>Target</th>\n    </tr>\n  </thead>\n  <tbody>\n    <tr>\n      <th>0</th>\n      <td>ID_279628684</td>\n      <td>190,000.00</td>\n      <td>0</td>\n      <td>3</td>\n      <td>0</td>\n      <td>1</td>\n      <td>1</td>\n      <td>0</td>\n      <td>nan</td>\n      <td>0</td>\n      <td>...</td>\n      <td>100</td>\n      <td>1849</td>\n      <td>1</td>\n      <td>100</td>\n      <td>0</td>\n      <td>1.00</td>\n      <td>0.00</td>\n      <td>100.00</td>\n      <td>1849</td>\n      <td>4</td>\n    </tr>\n    <tr>\n      <th>1</th>\n      <td>ID_f29eb3ddd</td>\n      <td>135,000.00</td>\n      <td>0</td>\n      <td>4</td>\n      <td>0</td>\n      <td>1</td>\n      <td>1</td>\n      <td>1</td>\n      <td>1.00</td>\n      <td>0</td>\n      <td>...</td>\n      <td>144</td>\n      <td>4489</td>\n      <td>1</td>\n      <td>144</td>\n      <td>0</td>\n      <td>1.00</td>\n      <td>64.00</td>\n      <td>144.00</td>\n      <td>4489</td>\n      <td>4</td>\n    </tr>\n    <tr>\n      <th>2</th>\n      <td>ID_68de51c94</td>\n      <td>nan</td>\n      <td>0</td>\n      <td>8</td>\n      <td>0</td>\n      <td>1</td>\n      <td>1</td>\n      <td>0</td>\n      <td>nan</td>\n      <td>0</td>\n      <td>...</td>\n      <td>121</td>\n      <td>8464</td>\n      <td>1</td>\n      <td>0</td>\n      <td>0</td>\n      <td>0.25</td>\n      <td>64.00</td>\n      <td>121.00</td>\n      <td>8464</td>\n      <td>4</td>\n    </tr>\n    <tr>\n      <th>3</th>\n      <td>ID_d671db89c</td>\n      <td>180,000.00</td>\n      <td>0</td>\n      <td>5</td>\n      <td>0</td>\n      <td>1</td>\n      <td>1</td>\n      <td>1</td>\n      <td>1.00</td>\n      <td>0</td>\n      <td>...</td>\n      <td>81</td>\n      <td>289</td>\n      <td>16</td>\n      <td>121</td>\n      <td>4</td>\n      <td>1.78</td>\n      <td>1.00</td>\n      <td>121.00</td>\n      <td>289</td>\n      <td>4</td>\n    </tr>\n    <tr>\n      <th>4</th>\n      <td>ID_d56d6f5f5</td>\n      <td>180,000.00</td>\n      <td>0</td>\n      <td>5</td>\n      <td>0</td>\n      <td>1</td>\n      <td>1</td>\n      <td>1</td>\n      <td>1.00</td>\n      <td>0</td>\n      <td>...</td>\n      <td>121</td>\n      <td>1369</td>\n      <td>16</td>\n      <td>121</td>\n      <td>4</td>\n      <td>1.78</td>\n      <td>1.00</td>\n      <td>121.00</td>\n      <td>1369</td>\n      <td>4</td>\n    </tr>\n  </tbody>\n</table>\n<p>5 rows × 143 columns</p>\n</div>"
          },
          "metadata": {}
        },
        {
          "output_type": "display_data",
          "data": {
            "text/plain": "             Id       v2a1  hacdor  rooms  hacapo  v14a  refrig  v18q  v18q1  \\\n0  ID_2f6873615        nan       0      5       0     1       1     0    nan   \n1  ID_1c78846d2        nan       0      5       0     1       1     0    nan   \n2  ID_e5442cf6a        nan       0      5       0     1       1     0    nan   \n3  ID_a8db26a79        nan       0     14       0     1       1     1   1.00   \n4  ID_a62966799 175,000.00       0      4       0     1       1     1   1.00   \n\n   r4h1  ...    age  SQBescolari  SQBage  SQBhogar_total  SQBedjefe  \\\n0     1  ...      4            0      16               9          0   \n1     1  ...     41          256    1681               9          0   \n2     1  ...     41          289    1681               9          0   \n3     0  ...     59          256    3481               1        256   \n4     0  ...     18          121     324               1          0   \n\n   SQBhogar_nin  SQBovercrowding  SQBdependency  SQBmeaned  agesq  \n0             1             2.25           0.25     272.25     16  \n1             1             2.25           0.25     272.25   1681  \n2             1             2.25           0.25     272.25   1681  \n3             0             1.00           0.00     256.00   3481  \n4             1             0.25          64.00        nan    324  \n\n[5 rows x 142 columns]",
            "text/html": "<div>\n<style scoped>\n    .dataframe tbody tr th:only-of-type {\n        vertical-align: middle;\n    }\n\n    .dataframe tbody tr th {\n        vertical-align: top;\n    }\n\n    .dataframe thead th {\n        text-align: right;\n    }\n</style>\n<table border=\"1\" class=\"dataframe\">\n  <thead>\n    <tr style=\"text-align: right;\">\n      <th></th>\n      <th>Id</th>\n      <th>v2a1</th>\n      <th>hacdor</th>\n      <th>rooms</th>\n      <th>hacapo</th>\n      <th>v14a</th>\n      <th>refrig</th>\n      <th>v18q</th>\n      <th>v18q1</th>\n      <th>r4h1</th>\n      <th>...</th>\n      <th>age</th>\n      <th>SQBescolari</th>\n      <th>SQBage</th>\n      <th>SQBhogar_total</th>\n      <th>SQBedjefe</th>\n      <th>SQBhogar_nin</th>\n      <th>SQBovercrowding</th>\n      <th>SQBdependency</th>\n      <th>SQBmeaned</th>\n      <th>agesq</th>\n    </tr>\n  </thead>\n  <tbody>\n    <tr>\n      <th>0</th>\n      <td>ID_2f6873615</td>\n      <td>nan</td>\n      <td>0</td>\n      <td>5</td>\n      <td>0</td>\n      <td>1</td>\n      <td>1</td>\n      <td>0</td>\n      <td>nan</td>\n      <td>1</td>\n      <td>...</td>\n      <td>4</td>\n      <td>0</td>\n      <td>16</td>\n      <td>9</td>\n      <td>0</td>\n      <td>1</td>\n      <td>2.25</td>\n      <td>0.25</td>\n      <td>272.25</td>\n      <td>16</td>\n    </tr>\n    <tr>\n      <th>1</th>\n      <td>ID_1c78846d2</td>\n      <td>nan</td>\n      <td>0</td>\n      <td>5</td>\n      <td>0</td>\n      <td>1</td>\n      <td>1</td>\n      <td>0</td>\n      <td>nan</td>\n      <td>1</td>\n      <td>...</td>\n      <td>41</td>\n      <td>256</td>\n      <td>1681</td>\n      <td>9</td>\n      <td>0</td>\n      <td>1</td>\n      <td>2.25</td>\n      <td>0.25</td>\n      <td>272.25</td>\n      <td>1681</td>\n    </tr>\n    <tr>\n      <th>2</th>\n      <td>ID_e5442cf6a</td>\n      <td>nan</td>\n      <td>0</td>\n      <td>5</td>\n      <td>0</td>\n      <td>1</td>\n      <td>1</td>\n      <td>0</td>\n      <td>nan</td>\n      <td>1</td>\n      <td>...</td>\n      <td>41</td>\n      <td>289</td>\n      <td>1681</td>\n      <td>9</td>\n      <td>0</td>\n      <td>1</td>\n      <td>2.25</td>\n      <td>0.25</td>\n      <td>272.25</td>\n      <td>1681</td>\n    </tr>\n    <tr>\n      <th>3</th>\n      <td>ID_a8db26a79</td>\n      <td>nan</td>\n      <td>0</td>\n      <td>14</td>\n      <td>0</td>\n      <td>1</td>\n      <td>1</td>\n      <td>1</td>\n      <td>1.00</td>\n      <td>0</td>\n      <td>...</td>\n      <td>59</td>\n      <td>256</td>\n      <td>3481</td>\n      <td>1</td>\n      <td>256</td>\n      <td>0</td>\n      <td>1.00</td>\n      <td>0.00</td>\n      <td>256.00</td>\n      <td>3481</td>\n    </tr>\n    <tr>\n      <th>4</th>\n      <td>ID_a62966799</td>\n      <td>175,000.00</td>\n      <td>0</td>\n      <td>4</td>\n      <td>0</td>\n      <td>1</td>\n      <td>1</td>\n      <td>1</td>\n      <td>1.00</td>\n      <td>0</td>\n      <td>...</td>\n      <td>18</td>\n      <td>121</td>\n      <td>324</td>\n      <td>1</td>\n      <td>0</td>\n      <td>1</td>\n      <td>0.25</td>\n      <td>64.00</td>\n      <td>nan</td>\n      <td>324</td>\n    </tr>\n  </tbody>\n</table>\n<p>5 rows × 142 columns</p>\n</div>"
          },
          "metadata": {}
        },
        {
          "output_type": "display_data",
          "data": {
            "text/plain": "             Id  Target\n0  ID_2f6873615       4\n1  ID_1c78846d2       4\n2  ID_e5442cf6a       4\n3  ID_a8db26a79       4\n4  ID_a62966799       4",
            "text/html": "<div>\n<style scoped>\n    .dataframe tbody tr th:only-of-type {\n        vertical-align: middle;\n    }\n\n    .dataframe tbody tr th {\n        vertical-align: top;\n    }\n\n    .dataframe thead th {\n        text-align: right;\n    }\n</style>\n<table border=\"1\" class=\"dataframe\">\n  <thead>\n    <tr style=\"text-align: right;\">\n      <th></th>\n      <th>Id</th>\n      <th>Target</th>\n    </tr>\n  </thead>\n  <tbody>\n    <tr>\n      <th>0</th>\n      <td>ID_2f6873615</td>\n      <td>4</td>\n    </tr>\n    <tr>\n      <th>1</th>\n      <td>ID_1c78846d2</td>\n      <td>4</td>\n    </tr>\n    <tr>\n      <th>2</th>\n      <td>ID_e5442cf6a</td>\n      <td>4</td>\n    </tr>\n    <tr>\n      <th>3</th>\n      <td>ID_a8db26a79</td>\n      <td>4</td>\n    </tr>\n    <tr>\n      <th>4</th>\n      <td>ID_a62966799</td>\n      <td>4</td>\n    </tr>\n  </tbody>\n</table>\n</div>"
          },
          "metadata": {}
        }
      ]
    },
    {
      "metadata": {
        "trusted": true,
        "_uuid": "08409c52c66fbbb57c34c9f23f4de09c8135fff1"
      },
      "cell_type": "code",
      "source": "train = tabs[0]\ntrain.describe()",
      "execution_count": 348,
      "outputs": [
        {
          "output_type": "execute_result",
          "execution_count": 348,
          "data": {
            "text/plain": "              v2a1   hacdor    rooms   hacapo     v14a   refrig     v18q  \\\ncount     2,697.00 9,557.00 9,557.00 9,557.00 9,557.00 9,557.00 9,557.00   \nmean    165,231.61     0.04     4.96     0.02     0.99     0.96     0.23   \nstd     150,457.13     0.19     1.47     0.15     0.07     0.20     0.42   \nmin           0.00     0.00     1.00     0.00     0.00     0.00     0.00   \n25%      80,000.00     0.00     4.00     0.00     1.00     1.00     0.00   \n50%     130,000.00     0.00     5.00     0.00     1.00     1.00     0.00   \n75%     200,000.00     0.00     6.00     0.00     1.00     1.00     0.00   \nmax   2,353,477.00     1.00    11.00     1.00     1.00     1.00     1.00   \n\n         v18q1     r4h1     r4h2   ...     SQBescolari   SQBage  \\\ncount 2,215.00 9,557.00 9,557.00   ...        9,557.00 9,557.00   \nmean      1.40     0.39     1.56   ...           74.22 1,643.77   \nstd       0.76     0.68     1.04   ...           76.78 1,741.20   \nmin       1.00     0.00     0.00   ...            0.00     0.00   \n25%       1.00     0.00     1.00   ...           16.00   289.00   \n50%       1.00     0.00     1.00   ...           36.00   961.00   \n75%       2.00     1.00     2.00   ...          121.00 2,601.00   \nmax       6.00     5.00     8.00   ...          441.00 9,409.00   \n\n       SQBhogar_total  SQBedjefe  SQBhogar_nin  SQBovercrowding  \\\ncount        9,557.00   9,557.00      9,557.00         9,557.00   \nmean            19.13      53.50          3.84             3.25   \nstd             18.75      78.45          6.95             4.13   \nmin              1.00       0.00          0.00             0.04   \n25%              9.00       0.00          0.00             1.00   \n50%             16.00      36.00          1.00             2.25   \n75%             25.00      81.00          4.00             4.00   \nmax            169.00     441.00         81.00            36.00   \n\n       SQBdependency  SQBmeaned    agesq   Target  \ncount       9,557.00   9,552.00 9,557.00 9,557.00  \nmean            3.90     102.59 1,643.77     3.30  \nstd            12.51      93.52 1,741.20     1.01  \nmin             0.00       0.00     0.00     1.00  \n25%             0.11      36.00   289.00     3.00  \n50%             0.44      81.00   961.00     4.00  \n75%             1.78     134.56 2,601.00     4.00  \nmax            64.00   1,369.00 9,409.00     4.00  \n\n[8 rows x 138 columns]",
            "text/html": "<div>\n<style scoped>\n    .dataframe tbody tr th:only-of-type {\n        vertical-align: middle;\n    }\n\n    .dataframe tbody tr th {\n        vertical-align: top;\n    }\n\n    .dataframe thead th {\n        text-align: right;\n    }\n</style>\n<table border=\"1\" class=\"dataframe\">\n  <thead>\n    <tr style=\"text-align: right;\">\n      <th></th>\n      <th>v2a1</th>\n      <th>hacdor</th>\n      <th>rooms</th>\n      <th>hacapo</th>\n      <th>v14a</th>\n      <th>refrig</th>\n      <th>v18q</th>\n      <th>v18q1</th>\n      <th>r4h1</th>\n      <th>r4h2</th>\n      <th>...</th>\n      <th>SQBescolari</th>\n      <th>SQBage</th>\n      <th>SQBhogar_total</th>\n      <th>SQBedjefe</th>\n      <th>SQBhogar_nin</th>\n      <th>SQBovercrowding</th>\n      <th>SQBdependency</th>\n      <th>SQBmeaned</th>\n      <th>agesq</th>\n      <th>Target</th>\n    </tr>\n  </thead>\n  <tbody>\n    <tr>\n      <th>count</th>\n      <td>2,697.00</td>\n      <td>9,557.00</td>\n      <td>9,557.00</td>\n      <td>9,557.00</td>\n      <td>9,557.00</td>\n      <td>9,557.00</td>\n      <td>9,557.00</td>\n      <td>2,215.00</td>\n      <td>9,557.00</td>\n      <td>9,557.00</td>\n      <td>...</td>\n      <td>9,557.00</td>\n      <td>9,557.00</td>\n      <td>9,557.00</td>\n      <td>9,557.00</td>\n      <td>9,557.00</td>\n      <td>9,557.00</td>\n      <td>9,557.00</td>\n      <td>9,552.00</td>\n      <td>9,557.00</td>\n      <td>9,557.00</td>\n    </tr>\n    <tr>\n      <th>mean</th>\n      <td>165,231.61</td>\n      <td>0.04</td>\n      <td>4.96</td>\n      <td>0.02</td>\n      <td>0.99</td>\n      <td>0.96</td>\n      <td>0.23</td>\n      <td>1.40</td>\n      <td>0.39</td>\n      <td>1.56</td>\n      <td>...</td>\n      <td>74.22</td>\n      <td>1,643.77</td>\n      <td>19.13</td>\n      <td>53.50</td>\n      <td>3.84</td>\n      <td>3.25</td>\n      <td>3.90</td>\n      <td>102.59</td>\n      <td>1,643.77</td>\n      <td>3.30</td>\n    </tr>\n    <tr>\n      <th>std</th>\n      <td>150,457.13</td>\n      <td>0.19</td>\n      <td>1.47</td>\n      <td>0.15</td>\n      <td>0.07</td>\n      <td>0.20</td>\n      <td>0.42</td>\n      <td>0.76</td>\n      <td>0.68</td>\n      <td>1.04</td>\n      <td>...</td>\n      <td>76.78</td>\n      <td>1,741.20</td>\n      <td>18.75</td>\n      <td>78.45</td>\n      <td>6.95</td>\n      <td>4.13</td>\n      <td>12.51</td>\n      <td>93.52</td>\n      <td>1,741.20</td>\n      <td>1.01</td>\n    </tr>\n    <tr>\n      <th>min</th>\n      <td>0.00</td>\n      <td>0.00</td>\n      <td>1.00</td>\n      <td>0.00</td>\n      <td>0.00</td>\n      <td>0.00</td>\n      <td>0.00</td>\n      <td>1.00</td>\n      <td>0.00</td>\n      <td>0.00</td>\n      <td>...</td>\n      <td>0.00</td>\n      <td>0.00</td>\n      <td>1.00</td>\n      <td>0.00</td>\n      <td>0.00</td>\n      <td>0.04</td>\n      <td>0.00</td>\n      <td>0.00</td>\n      <td>0.00</td>\n      <td>1.00</td>\n    </tr>\n    <tr>\n      <th>25%</th>\n      <td>80,000.00</td>\n      <td>0.00</td>\n      <td>4.00</td>\n      <td>0.00</td>\n      <td>1.00</td>\n      <td>1.00</td>\n      <td>0.00</td>\n      <td>1.00</td>\n      <td>0.00</td>\n      <td>1.00</td>\n      <td>...</td>\n      <td>16.00</td>\n      <td>289.00</td>\n      <td>9.00</td>\n      <td>0.00</td>\n      <td>0.00</td>\n      <td>1.00</td>\n      <td>0.11</td>\n      <td>36.00</td>\n      <td>289.00</td>\n      <td>3.00</td>\n    </tr>\n    <tr>\n      <th>50%</th>\n      <td>130,000.00</td>\n      <td>0.00</td>\n      <td>5.00</td>\n      <td>0.00</td>\n      <td>1.00</td>\n      <td>1.00</td>\n      <td>0.00</td>\n      <td>1.00</td>\n      <td>0.00</td>\n      <td>1.00</td>\n      <td>...</td>\n      <td>36.00</td>\n      <td>961.00</td>\n      <td>16.00</td>\n      <td>36.00</td>\n      <td>1.00</td>\n      <td>2.25</td>\n      <td>0.44</td>\n      <td>81.00</td>\n      <td>961.00</td>\n      <td>4.00</td>\n    </tr>\n    <tr>\n      <th>75%</th>\n      <td>200,000.00</td>\n      <td>0.00</td>\n      <td>6.00</td>\n      <td>0.00</td>\n      <td>1.00</td>\n      <td>1.00</td>\n      <td>0.00</td>\n      <td>2.00</td>\n      <td>1.00</td>\n      <td>2.00</td>\n      <td>...</td>\n      <td>121.00</td>\n      <td>2,601.00</td>\n      <td>25.00</td>\n      <td>81.00</td>\n      <td>4.00</td>\n      <td>4.00</td>\n      <td>1.78</td>\n      <td>134.56</td>\n      <td>2,601.00</td>\n      <td>4.00</td>\n    </tr>\n    <tr>\n      <th>max</th>\n      <td>2,353,477.00</td>\n      <td>1.00</td>\n      <td>11.00</td>\n      <td>1.00</td>\n      <td>1.00</td>\n      <td>1.00</td>\n      <td>1.00</td>\n      <td>6.00</td>\n      <td>5.00</td>\n      <td>8.00</td>\n      <td>...</td>\n      <td>441.00</td>\n      <td>9,409.00</td>\n      <td>169.00</td>\n      <td>441.00</td>\n      <td>81.00</td>\n      <td>36.00</td>\n      <td>64.00</td>\n      <td>1,369.00</td>\n      <td>9,409.00</td>\n      <td>4.00</td>\n    </tr>\n  </tbody>\n</table>\n<p>8 rows × 138 columns</p>\n</div>"
          },
          "metadata": {}
        }
      ]
    },
    {
      "metadata": {
        "trusted": true,
        "_uuid": "c7d162011503c9acb787f2778f8d209908cb00c0"
      },
      "cell_type": "code",
      "source": "test = tabs[1]\ntest.describe()",
      "execution_count": 349,
      "outputs": [
        {
          "output_type": "execute_result",
          "execution_count": 349,
          "data": {
            "text/plain": "              v2a1    hacdor     rooms    hacapo      v14a    refrig  \\\ncount     6,453.00 23,856.00 23,856.00 23,856.00 23,856.00 23,856.00   \nmean    174,872.55      0.05      4.96      0.03      0.99      0.96   \nstd     156,788.71      0.22      1.54      0.17      0.08      0.19   \nmin           0.00      0.00      1.00      0.00      0.00      0.00   \n25%      80,000.00      0.00      4.00      0.00      1.00      1.00   \n50%     140,000.00      0.00      5.00      0.00      1.00      1.00   \n75%     220,000.00      0.00      6.00      0.00      1.00      1.00   \nmax   2,852,700.00      1.00     15.00      1.00      1.00      1.00   \n\n           v18q    v18q1      r4h1      r4h2    ...          age  SQBescolari  \\\ncount 23,856.00 5,730.00 23,856.00 23,856.00    ...    23,856.00    23,856.00   \nmean       0.24     1.35      0.42      1.56    ...        34.45        74.45   \nstd        0.43     0.69      0.71      0.99    ...        21.70        77.00   \nmin        0.00     1.00      0.00      0.00    ...         0.00         0.00   \n25%        0.00     1.00      0.00      1.00    ...        16.00        16.00   \n50%        0.00     1.00      0.00      1.00    ...        32.00        36.00   \n75%        0.00     1.75      1.00      2.00    ...        51.00       121.00   \nmax        1.00     6.00      6.00      7.00    ...        97.00       441.00   \n\n         SQBage  SQBhogar_total  SQBedjefe  SQBhogar_nin  SQBovercrowding  \\\ncount 23,856.00       23,856.00  23,856.00     23,856.00        23,856.00   \nmean   1,657.80           19.11      54.09          3.89             3.56   \nstd    1,753.60           17.31      77.31          6.88             6.67   \nmin        0.00            1.00       0.00          0.00             0.02   \n25%      256.00            9.00       0.00          0.00             1.00   \n50%    1,024.00           16.00      36.00          1.00             2.25   \n75%    2,601.00           25.00      81.00          4.00             4.00   \nmax    9,409.00          169.00     441.00        100.00           169.00   \n\n       SQBdependency  SQBmeaned     agesq  \ncount      23,856.00  23,825.00 23,856.00  \nmean            4.17     100.51  1,657.80  \nstd            13.11      89.21  1,753.60  \nmin             0.00       0.00      0.00  \n25%             0.11      36.00    256.00  \n50%             0.44      75.11  1,024.00  \n75%             1.78     132.25  2,601.00  \nmax            64.00   1,296.00  9,409.00  \n\n[8 rows x 137 columns]",
            "text/html": "<div>\n<style scoped>\n    .dataframe tbody tr th:only-of-type {\n        vertical-align: middle;\n    }\n\n    .dataframe tbody tr th {\n        vertical-align: top;\n    }\n\n    .dataframe thead th {\n        text-align: right;\n    }\n</style>\n<table border=\"1\" class=\"dataframe\">\n  <thead>\n    <tr style=\"text-align: right;\">\n      <th></th>\n      <th>v2a1</th>\n      <th>hacdor</th>\n      <th>rooms</th>\n      <th>hacapo</th>\n      <th>v14a</th>\n      <th>refrig</th>\n      <th>v18q</th>\n      <th>v18q1</th>\n      <th>r4h1</th>\n      <th>r4h2</th>\n      <th>...</th>\n      <th>age</th>\n      <th>SQBescolari</th>\n      <th>SQBage</th>\n      <th>SQBhogar_total</th>\n      <th>SQBedjefe</th>\n      <th>SQBhogar_nin</th>\n      <th>SQBovercrowding</th>\n      <th>SQBdependency</th>\n      <th>SQBmeaned</th>\n      <th>agesq</th>\n    </tr>\n  </thead>\n  <tbody>\n    <tr>\n      <th>count</th>\n      <td>6,453.00</td>\n      <td>23,856.00</td>\n      <td>23,856.00</td>\n      <td>23,856.00</td>\n      <td>23,856.00</td>\n      <td>23,856.00</td>\n      <td>23,856.00</td>\n      <td>5,730.00</td>\n      <td>23,856.00</td>\n      <td>23,856.00</td>\n      <td>...</td>\n      <td>23,856.00</td>\n      <td>23,856.00</td>\n      <td>23,856.00</td>\n      <td>23,856.00</td>\n      <td>23,856.00</td>\n      <td>23,856.00</td>\n      <td>23,856.00</td>\n      <td>23,856.00</td>\n      <td>23,825.00</td>\n      <td>23,856.00</td>\n    </tr>\n    <tr>\n      <th>mean</th>\n      <td>174,872.55</td>\n      <td>0.05</td>\n      <td>4.96</td>\n      <td>0.03</td>\n      <td>0.99</td>\n      <td>0.96</td>\n      <td>0.24</td>\n      <td>1.35</td>\n      <td>0.42</td>\n      <td>1.56</td>\n      <td>...</td>\n      <td>34.45</td>\n      <td>74.45</td>\n      <td>1,657.80</td>\n      <td>19.11</td>\n      <td>54.09</td>\n      <td>3.89</td>\n      <td>3.56</td>\n      <td>4.17</td>\n      <td>100.51</td>\n      <td>1,657.80</td>\n    </tr>\n    <tr>\n      <th>std</th>\n      <td>156,788.71</td>\n      <td>0.22</td>\n      <td>1.54</td>\n      <td>0.17</td>\n      <td>0.08</td>\n      <td>0.19</td>\n      <td>0.43</td>\n      <td>0.69</td>\n      <td>0.71</td>\n      <td>0.99</td>\n      <td>...</td>\n      <td>21.70</td>\n      <td>77.00</td>\n      <td>1,753.60</td>\n      <td>17.31</td>\n      <td>77.31</td>\n      <td>6.88</td>\n      <td>6.67</td>\n      <td>13.11</td>\n      <td>89.21</td>\n      <td>1,753.60</td>\n    </tr>\n    <tr>\n      <th>min</th>\n      <td>0.00</td>\n      <td>0.00</td>\n      <td>1.00</td>\n      <td>0.00</td>\n      <td>0.00</td>\n      <td>0.00</td>\n      <td>0.00</td>\n      <td>1.00</td>\n      <td>0.00</td>\n      <td>0.00</td>\n      <td>...</td>\n      <td>0.00</td>\n      <td>0.00</td>\n      <td>0.00</td>\n      <td>1.00</td>\n      <td>0.00</td>\n      <td>0.00</td>\n      <td>0.02</td>\n      <td>0.00</td>\n      <td>0.00</td>\n      <td>0.00</td>\n    </tr>\n    <tr>\n      <th>25%</th>\n      <td>80,000.00</td>\n      <td>0.00</td>\n      <td>4.00</td>\n      <td>0.00</td>\n      <td>1.00</td>\n      <td>1.00</td>\n      <td>0.00</td>\n      <td>1.00</td>\n      <td>0.00</td>\n      <td>1.00</td>\n      <td>...</td>\n      <td>16.00</td>\n      <td>16.00</td>\n      <td>256.00</td>\n      <td>9.00</td>\n      <td>0.00</td>\n      <td>0.00</td>\n      <td>1.00</td>\n      <td>0.11</td>\n      <td>36.00</td>\n      <td>256.00</td>\n    </tr>\n    <tr>\n      <th>50%</th>\n      <td>140,000.00</td>\n      <td>0.00</td>\n      <td>5.00</td>\n      <td>0.00</td>\n      <td>1.00</td>\n      <td>1.00</td>\n      <td>0.00</td>\n      <td>1.00</td>\n      <td>0.00</td>\n      <td>1.00</td>\n      <td>...</td>\n      <td>32.00</td>\n      <td>36.00</td>\n      <td>1,024.00</td>\n      <td>16.00</td>\n      <td>36.00</td>\n      <td>1.00</td>\n      <td>2.25</td>\n      <td>0.44</td>\n      <td>75.11</td>\n      <td>1,024.00</td>\n    </tr>\n    <tr>\n      <th>75%</th>\n      <td>220,000.00</td>\n      <td>0.00</td>\n      <td>6.00</td>\n      <td>0.00</td>\n      <td>1.00</td>\n      <td>1.00</td>\n      <td>0.00</td>\n      <td>1.75</td>\n      <td>1.00</td>\n      <td>2.00</td>\n      <td>...</td>\n      <td>51.00</td>\n      <td>121.00</td>\n      <td>2,601.00</td>\n      <td>25.00</td>\n      <td>81.00</td>\n      <td>4.00</td>\n      <td>4.00</td>\n      <td>1.78</td>\n      <td>132.25</td>\n      <td>2,601.00</td>\n    </tr>\n    <tr>\n      <th>max</th>\n      <td>2,852,700.00</td>\n      <td>1.00</td>\n      <td>15.00</td>\n      <td>1.00</td>\n      <td>1.00</td>\n      <td>1.00</td>\n      <td>1.00</td>\n      <td>6.00</td>\n      <td>6.00</td>\n      <td>7.00</td>\n      <td>...</td>\n      <td>97.00</td>\n      <td>441.00</td>\n      <td>9,409.00</td>\n      <td>169.00</td>\n      <td>441.00</td>\n      <td>100.00</td>\n      <td>169.00</td>\n      <td>64.00</td>\n      <td>1,296.00</td>\n      <td>9,409.00</td>\n    </tr>\n  </tbody>\n</table>\n<p>8 rows × 137 columns</p>\n</div>"
          },
          "metadata": {}
        }
      ]
    },
    {
      "metadata": {
        "trusted": true,
        "collapsed": true,
        "_uuid": "e893951aa1b544200d02b0f2b940d9cce32abe55"
      },
      "cell_type": "code",
      "source": "data = [train, test]",
      "execution_count": 350,
      "outputs": []
    },
    {
      "metadata": {
        "trusted": true,
        "_uuid": "5b0852e02d28c892874361a303a90a69338b2b01"
      },
      "cell_type": "code",
      "source": "for t in data: display(t.shape)",
      "execution_count": 351,
      "outputs": [
        {
          "output_type": "display_data",
          "data": {
            "text/plain": "(9557, 143)"
          },
          "metadata": {}
        },
        {
          "output_type": "display_data",
          "data": {
            "text/plain": "(23856, 142)"
          },
          "metadata": {}
        }
      ]
    },
    {
      "metadata": {
        "_uuid": "4a090213ce4257352d63b82356e38cfca897ed08"
      },
      "cell_type": "markdown",
      "source": "The training set is almost x2.5 the size of the training set... This is going to be a true challenge!"
    },
    {
      "metadata": {
        "_uuid": "7f3d557c70e3d63b4e8ba78a5a2e4a53fae6f459"
      },
      "cell_type": "markdown",
      "source": "## Data Review"
    },
    {
      "metadata": {
        "_uuid": "61c2b0822c09b94fb487491f39b8b5433c70674b"
      },
      "cell_type": "markdown",
      "source": "**Target feature**\n\nWe are asked to predict the feature called `Target` - an ordinal variable indicating groups of income levels as follows:\n1.  = extreme poverty \n2. = moderate poverty \n3. = vulnerable households \n4. = non vulnerable households\n\nLet's look at the `Target` distribution in our training data:"
    },
    {
      "metadata": {
        "trusted": true,
        "_uuid": "dcaa6a13ac099d92b81b863c15f32737dd5f199b"
      },
      "cell_type": "code",
      "source": "bins = train['Target'].unique()\ntrain['Target'].hist(bins=len(bins))\nplt.xticks(bins)\nplt.show()",
      "execution_count": 352,
      "outputs": [
        {
          "output_type": "display_data",
          "data": {
            "text/plain": "<matplotlib.figure.Figure at 0x7fc0c183a630>",
            "image/png": "[encoded data removed]"
          },
          "metadata": {}
        }
      ]
    },
    {
      "metadata": {
        "_uuid": "3accd711e53272ddf08cb566f219fe183cdb7a03"
      },
      "cell_type": "markdown",
      "source": "Unsurprisingly, we have an overrepresentation of the non-vulnerable households in our dataset. This was to be expected since normally government aid would be targeted at a minority of households that are in need the most. \n\nThis however poses a difficulty when training a machine learning algorithm since our results will most likely be biased towards forecasting the non-vulnerable households if we do not adress this issue. This problem of an imbalanced dataset is something we'll look into before going into modelling."
    },
    {
      "metadata": {
        "_uuid": "7144c78799bb999fc74d954f1a40a32ff3f69b61"
      },
      "cell_type": "markdown",
      "source": "**Missing values check**\n\nSome of the features in the training dataset appear to be incomplete:"
    },
    {
      "metadata": {
        "trusted": true,
        "_uuid": "41bd8dde40c3beffc98b04bd7607f306cc5ced77"
      },
      "cell_type": "code",
      "source": "for t in data: display(t.isna().sum()[t.isna().sum() != 0] / t.shape[0])",
      "execution_count": 353,
      "outputs": [
        {
          "output_type": "display_data",
          "data": {
            "text/plain": "v2a1        0.72\nv18q1       0.77\nrez_esc     0.83\nmeaneduc    0.00\nSQBmeaned   0.00\ndtype: float64"
          },
          "metadata": {}
        },
        {
          "output_type": "display_data",
          "data": {
            "text/plain": "v2a1        0.73\nv18q1       0.76\nrez_esc     0.82\nmeaneduc    0.00\nSQBmeaned   0.00\ndtype: float64"
          },
          "metadata": {}
        }
      ]
    },
    {
      "metadata": {
        "_uuid": "ab2eaf304b6dfc94d9df60a896a9c14f920a005c"
      },
      "cell_type": "markdown",
      "source": "The same features are incomplete at a similar rates in both the training and test set, hinting that this might not be a case of data quality issues.\n\nLet's look closer at the features with missing values:\n1. `v2a1` - Monthly rent payment\n1.  `v18q1` - Number of tablets household owns\n1. `rez_esc` - Years behind in school\n1. `meaneduc` - Average years of education for adults (18+)\n1. `SQBmeaned` - Average years of education for adults squared\n\nTackling them in turns:"
    },
    {
      "metadata": {
        "_uuid": "41baefb74341d5e9161098d9d261eaa591658c39"
      },
      "cell_type": "markdown",
      "source": "> `rez_esc`\n\nReviewing the values in years behind in school against the age hints at the reason why so many observations are missing for this feature: the people with missing values are most likely not yet - or no longer - in the education system:"
    },
    {
      "metadata": {
        "trusted": true,
        "_uuid": "a405bf8ae1d3e7a9db5632bbf022d10177e2e422"
      },
      "cell_type": "code",
      "source": "for t in data: display(train[['age', 'rez_esc']].groupby('age').mean().head(25))",
      "execution_count": 354,
      "outputs": [
        {
          "output_type": "display_data",
          "data": {
            "text/plain": "     rez_esc\nage         \n0        nan\n1        nan\n2        nan\n3        nan\n4        nan\n5        nan\n6        nan\n7       0.00\n8       0.04\n9       0.07\n10      0.17\n11      0.20\n12      0.30\n13      0.27\n14      0.29\n15      0.69\n16      1.12\n17      1.46\n18       nan\n19       nan\n20       nan\n21       nan\n22       nan\n23       nan\n24       nan",
            "text/html": "<div>\n<style scoped>\n    .dataframe tbody tr th:only-of-type {\n        vertical-align: middle;\n    }\n\n    .dataframe tbody tr th {\n        vertical-align: top;\n    }\n\n    .dataframe thead th {\n        text-align: right;\n    }\n</style>\n<table border=\"1\" class=\"dataframe\">\n  <thead>\n    <tr style=\"text-align: right;\">\n      <th></th>\n      <th>rez_esc</th>\n    </tr>\n    <tr>\n      <th>age</th>\n      <th></th>\n    </tr>\n  </thead>\n  <tbody>\n    <tr>\n      <th>0</th>\n      <td>nan</td>\n    </tr>\n    <tr>\n      <th>1</th>\n      <td>nan</td>\n    </tr>\n    <tr>\n      <th>2</th>\n      <td>nan</td>\n    </tr>\n    <tr>\n      <th>3</th>\n      <td>nan</td>\n    </tr>\n    <tr>\n      <th>4</th>\n      <td>nan</td>\n    </tr>\n    <tr>\n      <th>5</th>\n      <td>nan</td>\n    </tr>\n    <tr>\n      <th>6</th>\n      <td>nan</td>\n    </tr>\n    <tr>\n      <th>7</th>\n      <td>0.00</td>\n    </tr>\n    <tr>\n      <th>8</th>\n      <td>0.04</td>\n    </tr>\n    <tr>\n      <th>9</th>\n      <td>0.07</td>\n    </tr>\n    <tr>\n      <th>10</th>\n      <td>0.17</td>\n    </tr>\n    <tr>\n      <th>11</th>\n      <td>0.20</td>\n    </tr>\n    <tr>\n      <th>12</th>\n      <td>0.30</td>\n    </tr>\n    <tr>\n      <th>13</th>\n      <td>0.27</td>\n    </tr>\n    <tr>\n      <th>14</th>\n      <td>0.29</td>\n    </tr>\n    <tr>\n      <th>15</th>\n      <td>0.69</td>\n    </tr>\n    <tr>\n      <th>16</th>\n      <td>1.12</td>\n    </tr>\n    <tr>\n      <th>17</th>\n      <td>1.46</td>\n    </tr>\n    <tr>\n      <th>18</th>\n      <td>nan</td>\n    </tr>\n    <tr>\n      <th>19</th>\n      <td>nan</td>\n    </tr>\n    <tr>\n      <th>20</th>\n      <td>nan</td>\n    </tr>\n    <tr>\n      <th>21</th>\n      <td>nan</td>\n    </tr>\n    <tr>\n      <th>22</th>\n      <td>nan</td>\n    </tr>\n    <tr>\n      <th>23</th>\n      <td>nan</td>\n    </tr>\n    <tr>\n      <th>24</th>\n      <td>nan</td>\n    </tr>\n  </tbody>\n</table>\n</div>"
          },
          "metadata": {}
        },
        {
          "output_type": "display_data",
          "data": {
            "text/plain": "     rez_esc\nage         \n0        nan\n1        nan\n2        nan\n3        nan\n4        nan\n5        nan\n6        nan\n7       0.00\n8       0.04\n9       0.07\n10      0.17\n11      0.20\n12      0.30\n13      0.27\n14      0.29\n15      0.69\n16      1.12\n17      1.46\n18       nan\n19       nan\n20       nan\n21       nan\n22       nan\n23       nan\n24       nan",
            "text/html": "<div>\n<style scoped>\n    .dataframe tbody tr th:only-of-type {\n        vertical-align: middle;\n    }\n\n    .dataframe tbody tr th {\n        vertical-align: top;\n    }\n\n    .dataframe thead th {\n        text-align: right;\n    }\n</style>\n<table border=\"1\" class=\"dataframe\">\n  <thead>\n    <tr style=\"text-align: right;\">\n      <th></th>\n      <th>rez_esc</th>\n    </tr>\n    <tr>\n      <th>age</th>\n      <th></th>\n    </tr>\n  </thead>\n  <tbody>\n    <tr>\n      <th>0</th>\n      <td>nan</td>\n    </tr>\n    <tr>\n      <th>1</th>\n      <td>nan</td>\n    </tr>\n    <tr>\n      <th>2</th>\n      <td>nan</td>\n    </tr>\n    <tr>\n      <th>3</th>\n      <td>nan</td>\n    </tr>\n    <tr>\n      <th>4</th>\n      <td>nan</td>\n    </tr>\n    <tr>\n      <th>5</th>\n      <td>nan</td>\n    </tr>\n    <tr>\n      <th>6</th>\n      <td>nan</td>\n    </tr>\n    <tr>\n      <th>7</th>\n      <td>0.00</td>\n    </tr>\n    <tr>\n      <th>8</th>\n      <td>0.04</td>\n    </tr>\n    <tr>\n      <th>9</th>\n      <td>0.07</td>\n    </tr>\n    <tr>\n      <th>10</th>\n      <td>0.17</td>\n    </tr>\n    <tr>\n      <th>11</th>\n      <td>0.20</td>\n    </tr>\n    <tr>\n      <th>12</th>\n      <td>0.30</td>\n    </tr>\n    <tr>\n      <th>13</th>\n      <td>0.27</td>\n    </tr>\n    <tr>\n      <th>14</th>\n      <td>0.29</td>\n    </tr>\n    <tr>\n      <th>15</th>\n      <td>0.69</td>\n    </tr>\n    <tr>\n      <th>16</th>\n      <td>1.12</td>\n    </tr>\n    <tr>\n      <th>17</th>\n      <td>1.46</td>\n    </tr>\n    <tr>\n      <th>18</th>\n      <td>nan</td>\n    </tr>\n    <tr>\n      <th>19</th>\n      <td>nan</td>\n    </tr>\n    <tr>\n      <th>20</th>\n      <td>nan</td>\n    </tr>\n    <tr>\n      <th>21</th>\n      <td>nan</td>\n    </tr>\n    <tr>\n      <th>22</th>\n      <td>nan</td>\n    </tr>\n    <tr>\n      <th>23</th>\n      <td>nan</td>\n    </tr>\n    <tr>\n      <th>24</th>\n      <td>nan</td>\n    </tr>\n  </tbody>\n</table>\n</div>"
          },
          "metadata": {}
        }
      ]
    },
    {
      "metadata": {
        "_uuid": "fc825c0d9be140bf60211b32684d411ae7fd5882"
      },
      "cell_type": "markdown",
      "source": "We will fill in the missing values with 0:"
    },
    {
      "metadata": {
        "trusted": true,
        "collapsed": true,
        "_uuid": "144892e355a75e9b5a46837cc04cb9fedf166fe7"
      },
      "cell_type": "code",
      "source": "for t in data: t['rez_esc'].fillna(0, inplace=True)",
      "execution_count": 355,
      "outputs": []
    },
    {
      "metadata": {
        "_uuid": "f35add3ecc160f7d55845b00bac28e5ee99109d0"
      },
      "cell_type": "markdown",
      "source": ">`v2a1`\n\nFor the monthly rent payment, over 72% of records appear to be missing. One potential explanation for this could be when the family actually owns a house and pays no rent as such. Let's look at some of the other features provided - specifically `tipovivi1-5` which describe the household ownership type:"
    },
    {
      "metadata": {
        "trusted": true,
        "_uuid": "69b8cc614cc4381dc718d2bf71b13ede86547c3d",
        "_kg_hide-input": false
      },
      "cell_type": "code",
      "source": "for t in data:\n    mask = t['v2a1'].isna()\n    name = \"Training\" if \"Target\" in t.columns else \"Test\"\n    print(f\"\"\"\n{name} Set\n__________\nTotal missing v2a1 observations: {t[mask].shape[0]}\n\nOf which:\n> own and fully paid house: {t[mask & (t['tipovivi1'] == 1)].shape[0]}\n> own, paying in installments: {t[mask & (t['tipovivi2'] == 1)].shape[0]}\n> rented: {t[mask & (t['tipovivi3'] == 1)].shape[0]}\n> precarious: {t[mask & (t['tipovivi4'] == 1)].shape[0]}\n> other (assigned,  borrowed): {t[mask & (t['tipovivi5'] == 1)].shape[0]}\n    \"\"\")",
      "execution_count": 356,
      "outputs": [
        {
          "output_type": "stream",
          "text": "\nTraining Set\n__________\nTotal missing v2a1 observations: 6860\n\nOf which:\n> own and fully paid house: 5911\n> own, paying in installments: 0\n> rented: 0\n> precarious: 163\n> other (assigned,  borrowed): 786\n    \n\nTest Set\n__________\nTotal missing v2a1 observations: 17403\n\nOf which:\n> own and fully paid house: 14933\n> own, paying in installments: 0\n> rented: 0\n> precarious: 434\n> other (assigned,  borrowed): 2036\n    \n",
          "name": "stdout"
        }
      ]
    },
    {
      "metadata": {
        "_uuid": "0240061a6ca6a6989e6944eaa809288fb0f482c0"
      },
      "cell_type": "markdown",
      "source": "Clearly the majority of cases relate to the family either living in their own house or in an assigned/borrowed house. Again, we will simply fill in the missing values with 0:"
    },
    {
      "metadata": {
        "trusted": true,
        "collapsed": true,
        "_uuid": "50f85d6f022a947cd5d80366e3e386cbf8f1b5d4"
      },
      "cell_type": "code",
      "source": "for t in data: t['v2a1'].fillna(0, inplace=True)",
      "execution_count": 357,
      "outputs": []
    },
    {
      "metadata": {
        "_uuid": "61bb23d39505cc74975f15a8e096421be83074aa"
      },
      "cell_type": "markdown",
      "source": "> `v18q1`\n\nIn case of the missing values in the number of tablets a household owns, we also have a supporting feature - namely `v18q` - indicating if a person owns a tablet or not:"
    },
    {
      "metadata": {
        "trusted": true,
        "_uuid": "1fc539ebf22298ab8577ead07ae1d37674771bb2"
      },
      "cell_type": "code",
      "source": "train[['v18q1', 'v18q']].fillna('missing').groupby('v18q1').sum()",
      "execution_count": 358,
      "outputs": [
        {
          "output_type": "execute_result",
          "execution_count": 358,
          "data": {
            "text/plain": "         v18q\nv18q1        \n1.0      1586\n2.0       444\n3.0       129\n4.0        37\n5.0        13\n6.0         6\nmissing     0",
            "text/html": "<div>\n<style scoped>\n    .dataframe tbody tr th:only-of-type {\n        vertical-align: middle;\n    }\n\n    .dataframe tbody tr th {\n        vertical-align: top;\n    }\n\n    .dataframe thead th {\n        text-align: right;\n    }\n</style>\n<table border=\"1\" class=\"dataframe\">\n  <thead>\n    <tr style=\"text-align: right;\">\n      <th></th>\n      <th>v18q</th>\n    </tr>\n    <tr>\n      <th>v18q1</th>\n      <th></th>\n    </tr>\n  </thead>\n  <tbody>\n    <tr>\n      <th>1.0</th>\n      <td>1586</td>\n    </tr>\n    <tr>\n      <th>2.0</th>\n      <td>444</td>\n    </tr>\n    <tr>\n      <th>3.0</th>\n      <td>129</td>\n    </tr>\n    <tr>\n      <th>4.0</th>\n      <td>37</td>\n    </tr>\n    <tr>\n      <th>5.0</th>\n      <td>13</td>\n    </tr>\n    <tr>\n      <th>6.0</th>\n      <td>6</td>\n    </tr>\n    <tr>\n      <th>missing</th>\n      <td>0</td>\n    </tr>\n  </tbody>\n</table>\n</div>"
          },
          "metadata": {}
        }
      ]
    },
    {
      "metadata": {
        "_uuid": "66877823bc2a9f7037df52c73aa3840a3daa6d96"
      },
      "cell_type": "markdown",
      "source": "In summary, `v18q1` is only missing when none of the people in the household own a tablet. This means that we can safely fill the missing values with 0 again:"
    },
    {
      "metadata": {
        "trusted": true,
        "collapsed": true,
        "_uuid": "5bbff48dbea619b35658afb65e69dfc5da89b045"
      },
      "cell_type": "code",
      "source": "for df in data: df['v18q1'].fillna(0, inplace=True)",
      "execution_count": 359,
      "outputs": []
    },
    {
      "metadata": {
        "_uuid": "53f22ce99c7de47c8c9f3ec30e0d674e092ee1a6"
      },
      "cell_type": "markdown",
      "source": "> `meaneduc` & `SQBmeaned`\n\nThis leaves us with the average years of education for adults and it's squared values. As in previous cases, we'll leverage on the other features to gain the insight. In this case we will use `age` (since there is an age census for this variable) and `escolari`, the years of schooling of a particular person:"
    },
    {
      "metadata": {
        "trusted": true,
        "_uuid": "a5258f892bc7ef69b96e4553ff63e3a4a5667ee5"
      },
      "cell_type": "code",
      "source": "for t in data: display(t[['idhogar', 'age', 'escolari']][t['meaneduc'].isna()])",
      "execution_count": 360,
      "outputs": [
        {
          "output_type": "display_data",
          "data": {
            "text/plain": "        idhogar  age  escolari\n1291  1b31fd159   18        10\n1840  a874b7ce7   18         6\n1841  a874b7ce7   18         4\n2049  faaebf71a   19        12\n2050  faaebf71a   19        12",
            "text/html": "<div>\n<style scoped>\n    .dataframe tbody tr th:only-of-type {\n        vertical-align: middle;\n    }\n\n    .dataframe tbody tr th {\n        vertical-align: top;\n    }\n\n    .dataframe thead th {\n        text-align: right;\n    }\n</style>\n<table border=\"1\" class=\"dataframe\">\n  <thead>\n    <tr style=\"text-align: right;\">\n      <th></th>\n      <th>idhogar</th>\n      <th>age</th>\n      <th>escolari</th>\n    </tr>\n  </thead>\n  <tbody>\n    <tr>\n      <th>1291</th>\n      <td>1b31fd159</td>\n      <td>18</td>\n      <td>10</td>\n    </tr>\n    <tr>\n      <th>1840</th>\n      <td>a874b7ce7</td>\n      <td>18</td>\n      <td>6</td>\n    </tr>\n    <tr>\n      <th>1841</th>\n      <td>a874b7ce7</td>\n      <td>18</td>\n      <td>4</td>\n    </tr>\n    <tr>\n      <th>2049</th>\n      <td>faaebf71a</td>\n      <td>19</td>\n      <td>12</td>\n    </tr>\n    <tr>\n      <th>2050</th>\n      <td>faaebf71a</td>\n      <td>19</td>\n      <td>12</td>\n    </tr>\n  </tbody>\n</table>\n</div>"
          },
          "metadata": {}
        },
        {
          "output_type": "display_data",
          "data": {
            "text/plain": "         idhogar  age  escolari\n4      1e2fc704e   18        11\n535    bb7038e41   18        11\n536    4937daf94   19        12\n537    4937daf94   19        12\n2612   4deb0c65e   19         8\n2613   4deb0c65e   17         6\n6809   74718009d   18        12\n6810   74718009d   19        12\n7266   8e4c4b74b   19        12\n7267   8e4c4b74b   18        10\n15808  e197a50ea   19         6\n15809  e197a50ea   18         8\n15810  e197a50ea    2         0\n16096  90c21473b    2         0\n16097  90c21473b   18         7\n16291  c31f9f3a0   17         9\n19421  03c21b43f   18        11\n19985  2e4c82ed0   19        10\n21136  0b1d5d56e   18         6\n21137  0b1d5d56e    2         0\n21644  c49af2e64   17         9\n21645  c49af2e64    1         0\n21824  519274b20   15         7\n21825  519274b20   18         9\n21826  f4adb7a8c    1         0\n21827  f4adb7a8c   18         6\n22125  656185b23    0         0\n22126  656185b23   18         9\n22336  074f400ee   18         7\n22337  074f400ee    1         0\n22338  074f400ee   18         6",
            "text/html": "<div>\n<style scoped>\n    .dataframe tbody tr th:only-of-type {\n        vertical-align: middle;\n    }\n\n    .dataframe tbody tr th {\n        vertical-align: top;\n    }\n\n    .dataframe thead th {\n        text-align: right;\n    }\n</style>\n<table border=\"1\" class=\"dataframe\">\n  <thead>\n    <tr style=\"text-align: right;\">\n      <th></th>\n      <th>idhogar</th>\n      <th>age</th>\n      <th>escolari</th>\n    </tr>\n  </thead>\n  <tbody>\n    <tr>\n      <th>4</th>\n      <td>1e2fc704e</td>\n      <td>18</td>\n      <td>11</td>\n    </tr>\n    <tr>\n      <th>535</th>\n      <td>bb7038e41</td>\n      <td>18</td>\n      <td>11</td>\n    </tr>\n    <tr>\n      <th>536</th>\n      <td>4937daf94</td>\n      <td>19</td>\n      <td>12</td>\n    </tr>\n    <tr>\n      <th>537</th>\n      <td>4937daf94</td>\n      <td>19</td>\n      <td>12</td>\n    </tr>\n    <tr>\n      <th>2612</th>\n      <td>4deb0c65e</td>\n      <td>19</td>\n      <td>8</td>\n    </tr>\n    <tr>\n      <th>2613</th>\n      <td>4deb0c65e</td>\n      <td>17</td>\n      <td>6</td>\n    </tr>\n    <tr>\n      <th>6809</th>\n      <td>74718009d</td>\n      <td>18</td>\n      <td>12</td>\n    </tr>\n    <tr>\n      <th>6810</th>\n      <td>74718009d</td>\n      <td>19</td>\n      <td>12</td>\n    </tr>\n    <tr>\n      <th>7266</th>\n      <td>8e4c4b74b</td>\n      <td>19</td>\n      <td>12</td>\n    </tr>\n    <tr>\n      <th>7267</th>\n      <td>8e4c4b74b</td>\n      <td>18</td>\n      <td>10</td>\n    </tr>\n    <tr>\n      <th>15808</th>\n      <td>e197a50ea</td>\n      <td>19</td>\n      <td>6</td>\n    </tr>\n    <tr>\n      <th>15809</th>\n      <td>e197a50ea</td>\n      <td>18</td>\n      <td>8</td>\n    </tr>\n    <tr>\n      <th>15810</th>\n      <td>e197a50ea</td>\n      <td>2</td>\n      <td>0</td>\n    </tr>\n    <tr>\n      <th>16096</th>\n      <td>90c21473b</td>\n      <td>2</td>\n      <td>0</td>\n    </tr>\n    <tr>\n      <th>16097</th>\n      <td>90c21473b</td>\n      <td>18</td>\n      <td>7</td>\n    </tr>\n    <tr>\n      <th>16291</th>\n      <td>c31f9f3a0</td>\n      <td>17</td>\n      <td>9</td>\n    </tr>\n    <tr>\n      <th>19421</th>\n      <td>03c21b43f</td>\n      <td>18</td>\n      <td>11</td>\n    </tr>\n    <tr>\n      <th>19985</th>\n      <td>2e4c82ed0</td>\n      <td>19</td>\n      <td>10</td>\n    </tr>\n    <tr>\n      <th>21136</th>\n      <td>0b1d5d56e</td>\n      <td>18</td>\n      <td>6</td>\n    </tr>\n    <tr>\n      <th>21137</th>\n      <td>0b1d5d56e</td>\n      <td>2</td>\n      <td>0</td>\n    </tr>\n    <tr>\n      <th>21644</th>\n      <td>c49af2e64</td>\n      <td>17</td>\n      <td>9</td>\n    </tr>\n    <tr>\n      <th>21645</th>\n      <td>c49af2e64</td>\n      <td>1</td>\n      <td>0</td>\n    </tr>\n    <tr>\n      <th>21824</th>\n      <td>519274b20</td>\n      <td>15</td>\n      <td>7</td>\n    </tr>\n    <tr>\n      <th>21825</th>\n      <td>519274b20</td>\n      <td>18</td>\n      <td>9</td>\n    </tr>\n    <tr>\n      <th>21826</th>\n      <td>f4adb7a8c</td>\n      <td>1</td>\n      <td>0</td>\n    </tr>\n    <tr>\n      <th>21827</th>\n      <td>f4adb7a8c</td>\n      <td>18</td>\n      <td>6</td>\n    </tr>\n    <tr>\n      <th>22125</th>\n      <td>656185b23</td>\n      <td>0</td>\n      <td>0</td>\n    </tr>\n    <tr>\n      <th>22126</th>\n      <td>656185b23</td>\n      <td>18</td>\n      <td>9</td>\n    </tr>\n    <tr>\n      <th>22336</th>\n      <td>074f400ee</td>\n      <td>18</td>\n      <td>7</td>\n    </tr>\n    <tr>\n      <th>22337</th>\n      <td>074f400ee</td>\n      <td>1</td>\n      <td>0</td>\n    </tr>\n    <tr>\n      <th>22338</th>\n      <td>074f400ee</td>\n      <td>18</td>\n      <td>6</td>\n    </tr>\n  </tbody>\n</table>\n</div>"
          },
          "metadata": {}
        }
      ]
    },
    {
      "metadata": {
        "_uuid": "94bb6821cfc822965c16fa5884ff2449461510fd"
      },
      "cell_type": "markdown",
      "source": "It seems there is a mix of adults and non-adults in the families in the test set. Therefore, to fill in the missing values we will use the average years of schooling (`escolari`) of the adults or 0 if there are none in the household."
    },
    {
      "metadata": {
        "trusted": true,
        "_uuid": "ba82d7353bda7ecf80755c3b239754159a06a428",
        "collapsed": true
      },
      "cell_type": "code",
      "source": "for t in data:\n    di = dict(t[['idhogar', 'escolari']][(t['meaneduc'].isna()) & (t['age'] >= 18)].groupby('idhogar').mean()['escolari'])\n    no18 = set(t['idhogar'][t['meaneduc'].isna()]) - set([x for x in di])\n    di.update([[x, 0] for x in no18])\n    for d in di:\n        t.loc[(t['idhogar'] == d), 'meaneduc'] = di[d]\n        t.loc[(t['idhogar'] == d), 'SQBmeaned'] = di[d]**2",
      "execution_count": 361,
      "outputs": []
    },
    {
      "metadata": {
        "_uuid": "8ab0a2d74127edb8b40648f29beffc30c2554987"
      },
      "cell_type": "markdown",
      "source": "By now, we should be rid of all the missing values - let's verify this is the case:"
    },
    {
      "metadata": {
        "trusted": true,
        "_uuid": "9bfe0b746b59737d96d293e5ed6415412ab21beb"
      },
      "cell_type": "code",
      "source": "for t in data: display(t.isna().sum().sum())",
      "execution_count": 362,
      "outputs": [
        {
          "output_type": "display_data",
          "data": {
            "text/plain": "0"
          },
          "metadata": {}
        },
        {
          "output_type": "display_data",
          "data": {
            "text/plain": "0"
          },
          "metadata": {}
        }
      ]
    },
    {
      "metadata": {
        "_uuid": "39cae6c1f81584848b308490787b305be84540a2"
      },
      "cell_type": "markdown",
      "source": "**Handling categorical data**\n\nBefore we proceed to modelling, we need to ensure all of the features we plan to use in modelling are numerical. `Id` and `idhogar` are certainly string values but this doesn't bother us as they will not be used in training of the model. \n\nHowever, there are some other non-numerical features in our dataset as well: "
    },
    {
      "metadata": {
        "trusted": true,
        "_uuid": "5d51aa5140e37ba1778909c1d7fe7f0ee274c783"
      },
      "cell_type": "code",
      "source": "cats = set()\nfor t in data: cats.update({var for var in t.drop(columns=['Id', 'idhogar']).columns if t[var].dtypes == \"O\"})\ncats",
      "execution_count": 363,
      "outputs": [
        {
          "output_type": "execute_result",
          "execution_count": 363,
          "data": {
            "text/plain": "{'dependency', 'edjefa', 'edjefe'}"
          },
          "metadata": {}
        }
      ]
    },
    {
      "metadata": {
        "_uuid": "8e47e6ca5c768578acad9124220ada44773c4103"
      },
      "cell_type": "markdown",
      "source": "Time to see what sort of features we're up against here:\n1. `dependency` - dependency rate\n1. `edjefe` - years of education of male head of household\n1. `edjefa` - years of education of female head of household"
    },
    {
      "metadata": {
        "trusted": true,
        "_uuid": "36659baf58bdf21dc0a1d78d283ef6a525932c2d"
      },
      "cell_type": "code",
      "source": "for c in cats: display(c, train[c].unique())",
      "execution_count": 364,
      "outputs": [
        {
          "output_type": "display_data",
          "data": {
            "text/plain": "'dependency'"
          },
          "metadata": {}
        },
        {
          "output_type": "display_data",
          "data": {
            "text/plain": "array(['no', '8', 'yes', '3', '.5', '.25', '2', '.66666669', '.33333334',\n       '1.5', '.40000001', '.75', '1.25', '.2', '2.5', '1.2', '4',\n       '1.3333334', '2.25', '.22222222', '5', '.83333331', '.80000001',\n       '6', '3.5', '1.6666666', '.2857143', '1.75', '.71428573',\n       '.16666667', '.60000002'], dtype=object)"
          },
          "metadata": {}
        },
        {
          "output_type": "display_data",
          "data": {
            "text/plain": "'edjefe'"
          },
          "metadata": {}
        },
        {
          "output_type": "display_data",
          "data": {
            "text/plain": "array(['10', '12', 'no', '11', '9', '15', '4', '6', '8', '17', '7', '16',\n       '14', '5', '21', '2', '19', 'yes', '3', '18', '13', '20'],\n      dtype=object)"
          },
          "metadata": {}
        },
        {
          "output_type": "display_data",
          "data": {
            "text/plain": "'edjefa'"
          },
          "metadata": {}
        },
        {
          "output_type": "display_data",
          "data": {
            "text/plain": "array(['no', '11', '4', '10', '9', '15', '7', '14', '13', '8', '17', '6',\n       '5', '3', '16', '19', 'yes', '21', '12', '2', '20', '18'],\n      dtype=object)"
          },
          "metadata": {}
        }
      ]
    },
    {
      "metadata": {
        "_uuid": "4059a76b62215a842c228388a7b542c1245e85e7"
      },
      "cell_type": "markdown",
      "source": "The categorical features in our dataset appear to actually be continuous with some observations noted as \"yes\" or \"no\" instead of numbers. Let's look at them a little closer, starting with:"
    },
    {
      "metadata": {
        "_uuid": "f5afff46c477989c5033bf01336c4081bd05eae6"
      },
      "cell_type": "markdown",
      "source": ">`edjefe` & `edjefa`\n\nIn order to understand the 'yes' and 'no' observations, we will compare them with some of the other features in our dataset. \n\nLet's look at the family heads first:"
    },
    {
      "metadata": {
        "trusted": true,
        "_uuid": "4ddcc84103799fd1530f30b10ea9bd7c54a035b2"
      },
      "cell_type": "code",
      "source": "select = ['idhogar', 'parentesco1', 'male', 'escolari', 'edjefe', 'edjefa', 'SQBedjefe']\nfor t in data: display(t[select][t['parentesco1'] ==1].head(10))",
      "execution_count": 365,
      "outputs": [
        {
          "output_type": "display_data",
          "data": {
            "text/plain": "      idhogar  parentesco1  male  escolari edjefe edjefa  SQBedjefe\n0   21eb7fcc1            1     1        10     10     no        100\n1   0e5d7a658            1     1        12     12     no        144\n2   2c7317ea8            1     0        11     no     11          0\n5   2b58d945f            1     1        11     11     no        121\n8   d6dae86b7            1     1         9      9     no         81\n12  bb2094100            1     0        11     no     11          0\n13  c51f9c774            1     0         4     no      4          0\n18  6893e65ca            1     0        10     no     10          0\n20  d29058053            1     1        15     15     no        225\n21  ec0e8edce            1     1         4      4     no         16",
            "text/html": "<div>\n<style scoped>\n    .dataframe tbody tr th:only-of-type {\n        vertical-align: middle;\n    }\n\n    .dataframe tbody tr th {\n        vertical-align: top;\n    }\n\n    .dataframe thead th {\n        text-align: right;\n    }\n</style>\n<table border=\"1\" class=\"dataframe\">\n  <thead>\n    <tr style=\"text-align: right;\">\n      <th></th>\n      <th>idhogar</th>\n      <th>parentesco1</th>\n      <th>male</th>\n      <th>escolari</th>\n      <th>edjefe</th>\n      <th>edjefa</th>\n      <th>SQBedjefe</th>\n    </tr>\n  </thead>\n  <tbody>\n    <tr>\n      <th>0</th>\n      <td>21eb7fcc1</td>\n      <td>1</td>\n      <td>1</td>\n      <td>10</td>\n      <td>10</td>\n      <td>no</td>\n      <td>100</td>\n    </tr>\n    <tr>\n      <th>1</th>\n      <td>0e5d7a658</td>\n      <td>1</td>\n      <td>1</td>\n      <td>12</td>\n      <td>12</td>\n      <td>no</td>\n      <td>144</td>\n    </tr>\n    <tr>\n      <th>2</th>\n      <td>2c7317ea8</td>\n      <td>1</td>\n      <td>0</td>\n      <td>11</td>\n      <td>no</td>\n      <td>11</td>\n      <td>0</td>\n    </tr>\n    <tr>\n      <th>5</th>\n      <td>2b58d945f</td>\n      <td>1</td>\n      <td>1</td>\n      <td>11</td>\n      <td>11</td>\n      <td>no</td>\n      <td>121</td>\n    </tr>\n    <tr>\n      <th>8</th>\n      <td>d6dae86b7</td>\n      <td>1</td>\n      <td>1</td>\n      <td>9</td>\n      <td>9</td>\n      <td>no</td>\n      <td>81</td>\n    </tr>\n    <tr>\n      <th>12</th>\n      <td>bb2094100</td>\n      <td>1</td>\n      <td>0</td>\n      <td>11</td>\n      <td>no</td>\n      <td>11</td>\n      <td>0</td>\n    </tr>\n    <tr>\n      <th>13</th>\n      <td>c51f9c774</td>\n      <td>1</td>\n      <td>0</td>\n      <td>4</td>\n      <td>no</td>\n      <td>4</td>\n      <td>0</td>\n    </tr>\n    <tr>\n      <th>18</th>\n      <td>6893e65ca</td>\n      <td>1</td>\n      <td>0</td>\n      <td>10</td>\n      <td>no</td>\n      <td>10</td>\n      <td>0</td>\n    </tr>\n    <tr>\n      <th>20</th>\n      <td>d29058053</td>\n      <td>1</td>\n      <td>1</td>\n      <td>15</td>\n      <td>15</td>\n      <td>no</td>\n      <td>225</td>\n    </tr>\n    <tr>\n      <th>21</th>\n      <td>ec0e8edce</td>\n      <td>1</td>\n      <td>1</td>\n      <td>4</td>\n      <td>4</td>\n      <td>no</td>\n      <td>16</td>\n    </tr>\n  </tbody>\n</table>\n</div>"
          },
          "metadata": {}
        },
        {
          "output_type": "display_data",
          "data": {
            "text/plain": "      idhogar  parentesco1  male  escolari edjefe edjefa  SQBedjefe\n2   72958b30c            1     0        17     no     17          0\n3   5b598fbc9            1     1        16     16     no        256\n4   1e2fc704e            1     0        11     no     11          0\n6   8ee7365a8            1     0        11     no     11          0\n8   ff69a6fc8            1     0        14     no     14          0\n9   b61e2bb92            1     0        10     no     10          0\n12  a499b6c30            1     0        15     no     15          0\n13  f751b9e44            1     1        10     10     no        100\n21  ba1262b51            1     1         6      6     no         36\n23  d5a0a19d8            1     0         9     no      9          0",
            "text/html": "<div>\n<style scoped>\n    .dataframe tbody tr th:only-of-type {\n        vertical-align: middle;\n    }\n\n    .dataframe tbody tr th {\n        vertical-align: top;\n    }\n\n    .dataframe thead th {\n        text-align: right;\n    }\n</style>\n<table border=\"1\" class=\"dataframe\">\n  <thead>\n    <tr style=\"text-align: right;\">\n      <th></th>\n      <th>idhogar</th>\n      <th>parentesco1</th>\n      <th>male</th>\n      <th>escolari</th>\n      <th>edjefe</th>\n      <th>edjefa</th>\n      <th>SQBedjefe</th>\n    </tr>\n  </thead>\n  <tbody>\n    <tr>\n      <th>2</th>\n      <td>72958b30c</td>\n      <td>1</td>\n      <td>0</td>\n      <td>17</td>\n      <td>no</td>\n      <td>17</td>\n      <td>0</td>\n    </tr>\n    <tr>\n      <th>3</th>\n      <td>5b598fbc9</td>\n      <td>1</td>\n      <td>1</td>\n      <td>16</td>\n      <td>16</td>\n      <td>no</td>\n      <td>256</td>\n    </tr>\n    <tr>\n      <th>4</th>\n      <td>1e2fc704e</td>\n      <td>1</td>\n      <td>0</td>\n      <td>11</td>\n      <td>no</td>\n      <td>11</td>\n      <td>0</td>\n    </tr>\n    <tr>\n      <th>6</th>\n      <td>8ee7365a8</td>\n      <td>1</td>\n      <td>0</td>\n      <td>11</td>\n      <td>no</td>\n      <td>11</td>\n      <td>0</td>\n    </tr>\n    <tr>\n      <th>8</th>\n      <td>ff69a6fc8</td>\n      <td>1</td>\n      <td>0</td>\n      <td>14</td>\n      <td>no</td>\n      <td>14</td>\n      <td>0</td>\n    </tr>\n    <tr>\n      <th>9</th>\n      <td>b61e2bb92</td>\n      <td>1</td>\n      <td>0</td>\n      <td>10</td>\n      <td>no</td>\n      <td>10</td>\n      <td>0</td>\n    </tr>\n    <tr>\n      <th>12</th>\n      <td>a499b6c30</td>\n      <td>1</td>\n      <td>0</td>\n      <td>15</td>\n      <td>no</td>\n      <td>15</td>\n      <td>0</td>\n    </tr>\n    <tr>\n      <th>13</th>\n      <td>f751b9e44</td>\n      <td>1</td>\n      <td>1</td>\n      <td>10</td>\n      <td>10</td>\n      <td>no</td>\n      <td>100</td>\n    </tr>\n    <tr>\n      <th>21</th>\n      <td>ba1262b51</td>\n      <td>1</td>\n      <td>1</td>\n      <td>6</td>\n      <td>6</td>\n      <td>no</td>\n      <td>36</td>\n    </tr>\n    <tr>\n      <th>23</th>\n      <td>d5a0a19d8</td>\n      <td>1</td>\n      <td>0</td>\n      <td>9</td>\n      <td>no</td>\n      <td>9</td>\n      <td>0</td>\n    </tr>\n  </tbody>\n</table>\n</div>"
          },
          "metadata": {}
        }
      ]
    },
    {
      "metadata": {
        "_uuid": "71ef3d6ee34cb711229d4e92f89d582735ab0c4b"
      },
      "cell_type": "markdown",
      "source": "It appears that for family heads, we basically get 'no' for `edjefa` if the head is a male and a 'no' for `edjefe` if the head is a female. Let's verify:"
    },
    {
      "metadata": {
        "trusted": true,
        "_uuid": "60e25ef6617dda4aa0f149002e978146581c1c60"
      },
      "cell_type": "code",
      "source": "for t in data: \n    for f in ['edjefe', 'edjefa']: display(t[[f, 'male']][(t[f] == 'no') & (t['parentesco1'] == 1)].groupby('male').count())",
      "execution_count": 366,
      "outputs": [
        {
          "output_type": "display_data",
          "data": {
            "text/plain": "      edjefe\nmale        \n0       1163\n1         74",
            "text/html": "<div>\n<style scoped>\n    .dataframe tbody tr th:only-of-type {\n        vertical-align: middle;\n    }\n\n    .dataframe tbody tr th {\n        vertical-align: top;\n    }\n\n    .dataframe thead th {\n        text-align: right;\n    }\n</style>\n<table border=\"1\" class=\"dataframe\">\n  <thead>\n    <tr style=\"text-align: right;\">\n      <th></th>\n      <th>edjefe</th>\n    </tr>\n    <tr>\n      <th>male</th>\n      <th></th>\n    </tr>\n  </thead>\n  <tbody>\n    <tr>\n      <th>0</th>\n      <td>1163</td>\n    </tr>\n    <tr>\n      <th>1</th>\n      <td>74</td>\n    </tr>\n  </tbody>\n</table>\n</div>"
          },
          "metadata": {}
        },
        {
          "output_type": "display_data",
          "data": {
            "text/plain": "      edjefa\nmale        \n0         61\n1       1810",
            "text/html": "<div>\n<style scoped>\n    .dataframe tbody tr th:only-of-type {\n        vertical-align: middle;\n    }\n\n    .dataframe tbody tr th {\n        vertical-align: top;\n    }\n\n    .dataframe thead th {\n        text-align: right;\n    }\n</style>\n<table border=\"1\" class=\"dataframe\">\n  <thead>\n    <tr style=\"text-align: right;\">\n      <th></th>\n      <th>edjefa</th>\n    </tr>\n    <tr>\n      <th>male</th>\n      <th></th>\n    </tr>\n  </thead>\n  <tbody>\n    <tr>\n      <th>0</th>\n      <td>61</td>\n    </tr>\n    <tr>\n      <th>1</th>\n      <td>1810</td>\n    </tr>\n  </tbody>\n</table>\n</div>"
          },
          "metadata": {}
        },
        {
          "output_type": "display_data",
          "data": {
            "text/plain": "      edjefe\nmale        \n0       2753\n1        237",
            "text/html": "<div>\n<style scoped>\n    .dataframe tbody tr th:only-of-type {\n        vertical-align: middle;\n    }\n\n    .dataframe tbody tr th {\n        vertical-align: top;\n    }\n\n    .dataframe thead th {\n        text-align: right;\n    }\n</style>\n<table border=\"1\" class=\"dataframe\">\n  <thead>\n    <tr style=\"text-align: right;\">\n      <th></th>\n      <th>edjefe</th>\n    </tr>\n    <tr>\n      <th>male</th>\n      <th></th>\n    </tr>\n  </thead>\n  <tbody>\n    <tr>\n      <th>0</th>\n      <td>2753</td>\n    </tr>\n    <tr>\n      <th>1</th>\n      <td>237</td>\n    </tr>\n  </tbody>\n</table>\n</div>"
          },
          "metadata": {}
        },
        {
          "output_type": "display_data",
          "data": {
            "text/plain": "      edjefa\nmale        \n0        120\n1       4581",
            "text/html": "<div>\n<style scoped>\n    .dataframe tbody tr th:only-of-type {\n        vertical-align: middle;\n    }\n\n    .dataframe tbody tr th {\n        vertical-align: top;\n    }\n\n    .dataframe thead th {\n        text-align: right;\n    }\n</style>\n<table border=\"1\" class=\"dataframe\">\n  <thead>\n    <tr style=\"text-align: right;\">\n      <th></th>\n      <th>edjefa</th>\n    </tr>\n    <tr>\n      <th>male</th>\n      <th></th>\n    </tr>\n  </thead>\n  <tbody>\n    <tr>\n      <th>0</th>\n      <td>120</td>\n    </tr>\n    <tr>\n      <th>1</th>\n      <td>4581</td>\n    </tr>\n  </tbody>\n</table>\n</div>"
          },
          "metadata": {}
        }
      ]
    },
    {
      "metadata": {
        "_uuid": "fef632ab69a4646c480dc64dc3593cb228f71321"
      },
      "cell_type": "markdown",
      "source": "There seem to be some cases where there's a 'no' in `edjefe` when the head is a male and in `edjefa` when the head is a female. Let's check the average years of education is such cases:"
    },
    {
      "metadata": {
        "trusted": true,
        "_uuid": "aaf2b69861314f823b2742c06addf2c9e45d3314"
      },
      "cell_type": "code",
      "source": "for t in data:\n    display(t[['escolari', 'edjefe', 'edjefa']][(t['parentesco1'] == 1) &\n                                        (((t['edjefe'] == 'no') & (t['male'] == 1)) \n                                         | ((t['edjefa'] == 'no') & (t['male'] == 0)))\n                                       ].groupby(['edjefe', 'edjefa']).mean())",
      "execution_count": 367,
      "outputs": [
        {
          "output_type": "display_data",
          "data": {
            "text/plain": "               escolari\nedjefe edjefa          \nno     no             0",
            "text/html": "<div>\n<style scoped>\n    .dataframe tbody tr th:only-of-type {\n        vertical-align: middle;\n    }\n\n    .dataframe tbody tr th {\n        vertical-align: top;\n    }\n\n    .dataframe thead th {\n        text-align: right;\n    }\n</style>\n<table border=\"1\" class=\"dataframe\">\n  <thead>\n    <tr style=\"text-align: right;\">\n      <th></th>\n      <th></th>\n      <th>escolari</th>\n    </tr>\n    <tr>\n      <th>edjefe</th>\n      <th>edjefa</th>\n      <th></th>\n    </tr>\n  </thead>\n  <tbody>\n    <tr>\n      <th>no</th>\n      <th>no</th>\n      <td>0</td>\n    </tr>\n  </tbody>\n</table>\n</div>"
          },
          "metadata": {}
        },
        {
          "output_type": "display_data",
          "data": {
            "text/plain": "               escolari\nedjefe edjefa          \nno     no             0",
            "text/html": "<div>\n<style scoped>\n    .dataframe tbody tr th:only-of-type {\n        vertical-align: middle;\n    }\n\n    .dataframe tbody tr th {\n        vertical-align: top;\n    }\n\n    .dataframe thead th {\n        text-align: right;\n    }\n</style>\n<table border=\"1\" class=\"dataframe\">\n  <thead>\n    <tr style=\"text-align: right;\">\n      <th></th>\n      <th></th>\n      <th>escolari</th>\n    </tr>\n    <tr>\n      <th>edjefe</th>\n      <th>edjefa</th>\n      <th></th>\n    </tr>\n  </thead>\n  <tbody>\n    <tr>\n      <th>no</th>\n      <th>no</th>\n      <td>0</td>\n    </tr>\n  </tbody>\n</table>\n</div>"
          },
          "metadata": {}
        }
      ]
    },
    {
      "metadata": {
        "_uuid": "9d8b900ad89f3ca43d2634fe5ed0552b7caa6d76"
      },
      "cell_type": "markdown",
      "source": "Ok, it looks like there are cases when both `edjefe` and `edjefa` have the value 'no' - it seems to be when the family head spent no time in education.\n\nLet's check the 'yes' cases now:"
    },
    {
      "metadata": {
        "trusted": true,
        "_uuid": "b61f784baafd7bb7a8964ad7ec2cdd74480f75b4"
      },
      "cell_type": "code",
      "source": "for t in data: \n    display(t[select][t['edjefe'] == 'yes'].head(10))\n    display(t[select][t['edjefa'] == 'yes'].head(10))",
      "execution_count": 368,
      "outputs": [
        {
          "output_type": "display_data",
          "data": {
            "text/plain": "        idhogar  parentesco1  male  escolari edjefe edjefa  SQBedjefe\n601   3641ce2d1            1     1         1    yes     no          1\n602   3641ce2d1            0     0         3    yes     no          1\n2392  a7abf59cc            0     0         6    yes     no          1\n2393  a7abf59cc            0     0         5    yes     no          1\n2394  a7abf59cc            1     1         1    yes     no          1\n2422  698318dd7            0     1         6    yes     no          1\n2423  698318dd7            0     0         1    yes     no          1\n2424  698318dd7            1     1         1    yes     no          1\n2829  4559a5af0            0     0         4    yes     no          1\n2830  4559a5af0            1     1         1    yes     no          1",
            "text/html": "<div>\n<style scoped>\n    .dataframe tbody tr th:only-of-type {\n        vertical-align: middle;\n    }\n\n    .dataframe tbody tr th {\n        vertical-align: top;\n    }\n\n    .dataframe thead th {\n        text-align: right;\n    }\n</style>\n<table border=\"1\" class=\"dataframe\">\n  <thead>\n    <tr style=\"text-align: right;\">\n      <th></th>\n      <th>idhogar</th>\n      <th>parentesco1</th>\n      <th>male</th>\n      <th>escolari</th>\n      <th>edjefe</th>\n      <th>edjefa</th>\n      <th>SQBedjefe</th>\n    </tr>\n  </thead>\n  <tbody>\n    <tr>\n      <th>601</th>\n      <td>3641ce2d1</td>\n      <td>1</td>\n      <td>1</td>\n      <td>1</td>\n      <td>yes</td>\n      <td>no</td>\n      <td>1</td>\n    </tr>\n    <tr>\n      <th>602</th>\n      <td>3641ce2d1</td>\n      <td>0</td>\n      <td>0</td>\n      <td>3</td>\n      <td>yes</td>\n      <td>no</td>\n      <td>1</td>\n    </tr>\n    <tr>\n      <th>2392</th>\n      <td>a7abf59cc</td>\n      <td>0</td>\n      <td>0</td>\n      <td>6</td>\n      <td>yes</td>\n      <td>no</td>\n      <td>1</td>\n    </tr>\n    <tr>\n      <th>2393</th>\n      <td>a7abf59cc</td>\n      <td>0</td>\n      <td>0</td>\n      <td>5</td>\n      <td>yes</td>\n      <td>no</td>\n      <td>1</td>\n    </tr>\n    <tr>\n      <th>2394</th>\n      <td>a7abf59cc</td>\n      <td>1</td>\n      <td>1</td>\n      <td>1</td>\n      <td>yes</td>\n      <td>no</td>\n      <td>1</td>\n    </tr>\n    <tr>\n      <th>2422</th>\n      <td>698318dd7</td>\n      <td>0</td>\n      <td>1</td>\n      <td>6</td>\n      <td>yes</td>\n      <td>no</td>\n      <td>1</td>\n    </tr>\n    <tr>\n      <th>2423</th>\n      <td>698318dd7</td>\n      <td>0</td>\n      <td>0</td>\n      <td>1</td>\n      <td>yes</td>\n      <td>no</td>\n      <td>1</td>\n    </tr>\n    <tr>\n      <th>2424</th>\n      <td>698318dd7</td>\n      <td>1</td>\n      <td>1</td>\n      <td>1</td>\n      <td>yes</td>\n      <td>no</td>\n      <td>1</td>\n    </tr>\n    <tr>\n      <th>2829</th>\n      <td>4559a5af0</td>\n      <td>0</td>\n      <td>0</td>\n      <td>4</td>\n      <td>yes</td>\n      <td>no</td>\n      <td>1</td>\n    </tr>\n    <tr>\n      <th>2830</th>\n      <td>4559a5af0</td>\n      <td>1</td>\n      <td>1</td>\n      <td>1</td>\n      <td>yes</td>\n      <td>no</td>\n      <td>1</td>\n    </tr>\n  </tbody>\n</table>\n</div>"
          },
          "metadata": {}
        },
        {
          "output_type": "display_data",
          "data": {
            "text/plain": "       idhogar  parentesco1  male  escolari edjefe edjefa  SQBedjefe\n432  39f697073            1     0         1     no    yes          0\n566  5f1665f1d            0     0         0     no    yes          0\n567  5f1665f1d            0     1         6     no    yes          0\n568  5f1665f1d            1     0         1     no    yes          0\n569  5f1665f1d            0     0         7     no    yes          0\n594  10949c36b            0     1         1     no    yes          0\n595  10949c36b            1     0         1     no    yes          0\n974  4ec0576ea            0     1        10     no    yes          0\n975  4ec0576ea            0     1         9     no    yes          0\n976  4ec0576ea            1     0         1     no    yes          0",
            "text/html": "<div>\n<style scoped>\n    .dataframe tbody tr th:only-of-type {\n        vertical-align: middle;\n    }\n\n    .dataframe tbody tr th {\n        vertical-align: top;\n    }\n\n    .dataframe thead th {\n        text-align: right;\n    }\n</style>\n<table border=\"1\" class=\"dataframe\">\n  <thead>\n    <tr style=\"text-align: right;\">\n      <th></th>\n      <th>idhogar</th>\n      <th>parentesco1</th>\n      <th>male</th>\n      <th>escolari</th>\n      <th>edjefe</th>\n      <th>edjefa</th>\n      <th>SQBedjefe</th>\n    </tr>\n  </thead>\n  <tbody>\n    <tr>\n      <th>432</th>\n      <td>39f697073</td>\n      <td>1</td>\n      <td>0</td>\n      <td>1</td>\n      <td>no</td>\n      <td>yes</td>\n      <td>0</td>\n    </tr>\n    <tr>\n      <th>566</th>\n      <td>5f1665f1d</td>\n      <td>0</td>\n      <td>0</td>\n      <td>0</td>\n      <td>no</td>\n      <td>yes</td>\n      <td>0</td>\n    </tr>\n    <tr>\n      <th>567</th>\n      <td>5f1665f1d</td>\n      <td>0</td>\n      <td>1</td>\n      <td>6</td>\n      <td>no</td>\n      <td>yes</td>\n      <td>0</td>\n    </tr>\n    <tr>\n      <th>568</th>\n      <td>5f1665f1d</td>\n      <td>1</td>\n      <td>0</td>\n      <td>1</td>\n      <td>no</td>\n      <td>yes</td>\n      <td>0</td>\n    </tr>\n    <tr>\n      <th>569</th>\n      <td>5f1665f1d</td>\n      <td>0</td>\n      <td>0</td>\n      <td>7</td>\n      <td>no</td>\n      <td>yes</td>\n      <td>0</td>\n    </tr>\n    <tr>\n      <th>594</th>\n      <td>10949c36b</td>\n      <td>0</td>\n      <td>1</td>\n      <td>1</td>\n      <td>no</td>\n      <td>yes</td>\n      <td>0</td>\n    </tr>\n    <tr>\n      <th>595</th>\n      <td>10949c36b</td>\n      <td>1</td>\n      <td>0</td>\n      <td>1</td>\n      <td>no</td>\n      <td>yes</td>\n      <td>0</td>\n    </tr>\n    <tr>\n      <th>974</th>\n      <td>4ec0576ea</td>\n      <td>0</td>\n      <td>1</td>\n      <td>10</td>\n      <td>no</td>\n      <td>yes</td>\n      <td>0</td>\n    </tr>\n    <tr>\n      <th>975</th>\n      <td>4ec0576ea</td>\n      <td>0</td>\n      <td>1</td>\n      <td>9</td>\n      <td>no</td>\n      <td>yes</td>\n      <td>0</td>\n    </tr>\n    <tr>\n      <th>976</th>\n      <td>4ec0576ea</td>\n      <td>1</td>\n      <td>0</td>\n      <td>1</td>\n      <td>no</td>\n      <td>yes</td>\n      <td>0</td>\n    </tr>\n  </tbody>\n</table>\n</div>"
          },
          "metadata": {}
        },
        {
          "output_type": "display_data",
          "data": {
            "text/plain": "        idhogar  parentesco1  male  escolari edjefe edjefa  SQBedjefe\n1272  b49c7116c            0     0         4    yes     no          1\n1273  b49c7116c            1     1         1    yes     no          1\n1463  1d5d06b34            1     1         1    yes     no          1\n1464  1d5d06b34            0     0         6    yes     no          1\n1857  a503f4c31            1     1         1    yes     no          1\n1858  a503f4c31            0     0         3    yes     no          1\n1896  8c2bc79f1            1     1         1    yes     no          1\n1897  8c2bc79f1            0     0         6    yes     no          1\n1908  ab0f9933d            0     0         7    yes     no          1\n1909  ab0f9933d            1     1         1    yes     no          1",
            "text/html": "<div>\n<style scoped>\n    .dataframe tbody tr th:only-of-type {\n        vertical-align: middle;\n    }\n\n    .dataframe tbody tr th {\n        vertical-align: top;\n    }\n\n    .dataframe thead th {\n        text-align: right;\n    }\n</style>\n<table border=\"1\" class=\"dataframe\">\n  <thead>\n    <tr style=\"text-align: right;\">\n      <th></th>\n      <th>idhogar</th>\n      <th>parentesco1</th>\n      <th>male</th>\n      <th>escolari</th>\n      <th>edjefe</th>\n      <th>edjefa</th>\n      <th>SQBedjefe</th>\n    </tr>\n  </thead>\n  <tbody>\n    <tr>\n      <th>1272</th>\n      <td>b49c7116c</td>\n      <td>0</td>\n      <td>0</td>\n      <td>4</td>\n      <td>yes</td>\n      <td>no</td>\n      <td>1</td>\n    </tr>\n    <tr>\n      <th>1273</th>\n      <td>b49c7116c</td>\n      <td>1</td>\n      <td>1</td>\n      <td>1</td>\n      <td>yes</td>\n      <td>no</td>\n      <td>1</td>\n    </tr>\n    <tr>\n      <th>1463</th>\n      <td>1d5d06b34</td>\n      <td>1</td>\n      <td>1</td>\n      <td>1</td>\n      <td>yes</td>\n      <td>no</td>\n      <td>1</td>\n    </tr>\n    <tr>\n      <th>1464</th>\n      <td>1d5d06b34</td>\n      <td>0</td>\n      <td>0</td>\n      <td>6</td>\n      <td>yes</td>\n      <td>no</td>\n      <td>1</td>\n    </tr>\n    <tr>\n      <th>1857</th>\n      <td>a503f4c31</td>\n      <td>1</td>\n      <td>1</td>\n      <td>1</td>\n      <td>yes</td>\n      <td>no</td>\n      <td>1</td>\n    </tr>\n    <tr>\n      <th>1858</th>\n      <td>a503f4c31</td>\n      <td>0</td>\n      <td>0</td>\n      <td>3</td>\n      <td>yes</td>\n      <td>no</td>\n      <td>1</td>\n    </tr>\n    <tr>\n      <th>1896</th>\n      <td>8c2bc79f1</td>\n      <td>1</td>\n      <td>1</td>\n      <td>1</td>\n      <td>yes</td>\n      <td>no</td>\n      <td>1</td>\n    </tr>\n    <tr>\n      <th>1897</th>\n      <td>8c2bc79f1</td>\n      <td>0</td>\n      <td>0</td>\n      <td>6</td>\n      <td>yes</td>\n      <td>no</td>\n      <td>1</td>\n    </tr>\n    <tr>\n      <th>1908</th>\n      <td>ab0f9933d</td>\n      <td>0</td>\n      <td>0</td>\n      <td>7</td>\n      <td>yes</td>\n      <td>no</td>\n      <td>1</td>\n    </tr>\n    <tr>\n      <th>1909</th>\n      <td>ab0f9933d</td>\n      <td>1</td>\n      <td>1</td>\n      <td>1</td>\n      <td>yes</td>\n      <td>no</td>\n      <td>1</td>\n    </tr>\n  </tbody>\n</table>\n</div>"
          },
          "metadata": {}
        },
        {
          "output_type": "display_data",
          "data": {
            "text/plain": "        idhogar  parentesco1  male  escolari edjefe edjefa  SQBedjefe\n362   5a5367b00            0     1         0     no    yes          0\n363   5a5367b00            0     1         6     no    yes          0\n364   5a5367b00            0     1         6     no    yes          0\n365   5a5367b00            1     0         1     no    yes          0\n366   5a5367b00            0     0         5     no    yes          0\n367   5a5367b00            0     0         0     no    yes          0\n1116  b93509b16            1     0         1     no    yes          0\n2510  35752af09            1     0         1     no    yes          0\n2511  35752af09            0     1         8     no    yes          0\n2726  8e9d86331            1     0         1     no    yes          0",
            "text/html": "<div>\n<style scoped>\n    .dataframe tbody tr th:only-of-type {\n        vertical-align: middle;\n    }\n\n    .dataframe tbody tr th {\n        vertical-align: top;\n    }\n\n    .dataframe thead th {\n        text-align: right;\n    }\n</style>\n<table border=\"1\" class=\"dataframe\">\n  <thead>\n    <tr style=\"text-align: right;\">\n      <th></th>\n      <th>idhogar</th>\n      <th>parentesco1</th>\n      <th>male</th>\n      <th>escolari</th>\n      <th>edjefe</th>\n      <th>edjefa</th>\n      <th>SQBedjefe</th>\n    </tr>\n  </thead>\n  <tbody>\n    <tr>\n      <th>362</th>\n      <td>5a5367b00</td>\n      <td>0</td>\n      <td>1</td>\n      <td>0</td>\n      <td>no</td>\n      <td>yes</td>\n      <td>0</td>\n    </tr>\n    <tr>\n      <th>363</th>\n      <td>5a5367b00</td>\n      <td>0</td>\n      <td>1</td>\n      <td>6</td>\n      <td>no</td>\n      <td>yes</td>\n      <td>0</td>\n    </tr>\n    <tr>\n      <th>364</th>\n      <td>5a5367b00</td>\n      <td>0</td>\n      <td>1</td>\n      <td>6</td>\n      <td>no</td>\n      <td>yes</td>\n      <td>0</td>\n    </tr>\n    <tr>\n      <th>365</th>\n      <td>5a5367b00</td>\n      <td>1</td>\n      <td>0</td>\n      <td>1</td>\n      <td>no</td>\n      <td>yes</td>\n      <td>0</td>\n    </tr>\n    <tr>\n      <th>366</th>\n      <td>5a5367b00</td>\n      <td>0</td>\n      <td>0</td>\n      <td>5</td>\n      <td>no</td>\n      <td>yes</td>\n      <td>0</td>\n    </tr>\n    <tr>\n      <th>367</th>\n      <td>5a5367b00</td>\n      <td>0</td>\n      <td>0</td>\n      <td>0</td>\n      <td>no</td>\n      <td>yes</td>\n      <td>0</td>\n    </tr>\n    <tr>\n      <th>1116</th>\n      <td>b93509b16</td>\n      <td>1</td>\n      <td>0</td>\n      <td>1</td>\n      <td>no</td>\n      <td>yes</td>\n      <td>0</td>\n    </tr>\n    <tr>\n      <th>2510</th>\n      <td>35752af09</td>\n      <td>1</td>\n      <td>0</td>\n      <td>1</td>\n      <td>no</td>\n      <td>yes</td>\n      <td>0</td>\n    </tr>\n    <tr>\n      <th>2511</th>\n      <td>35752af09</td>\n      <td>0</td>\n      <td>1</td>\n      <td>8</td>\n      <td>no</td>\n      <td>yes</td>\n      <td>0</td>\n    </tr>\n    <tr>\n      <th>2726</th>\n      <td>8e9d86331</td>\n      <td>1</td>\n      <td>0</td>\n      <td>1</td>\n      <td>no</td>\n      <td>yes</td>\n      <td>0</td>\n    </tr>\n  </tbody>\n</table>\n</div>"
          },
          "metadata": {}
        }
      ]
    },
    {
      "metadata": {
        "_uuid": "3fe8c33515bde2d3035b8036c04f123385844320"
      },
      "cell_type": "markdown",
      "source": "The 'yes' in both `edjefe` and `edjefa` seems to indicate that this family head has 1 year of education. Let's verify:"
    },
    {
      "metadata": {
        "trusted": true,
        "_uuid": "2e57f2d7646dabdf09095949ab0a7a5d8259c3ad"
      },
      "cell_type": "code",
      "source": "for t in data:    \n    for f in ['edjefe', 'edjefa']:\n        display(t[[f, 'escolari']][(t[f] == 'yes') & (t['parentesco1'] == 1)].groupby(f).mean())",
      "execution_count": 369,
      "outputs": [
        {
          "output_type": "display_data",
          "data": {
            "text/plain": "        escolari\nedjefe          \nyes            1",
            "text/html": "<div>\n<style scoped>\n    .dataframe tbody tr th:only-of-type {\n        vertical-align: middle;\n    }\n\n    .dataframe tbody tr th {\n        vertical-align: top;\n    }\n\n    .dataframe thead th {\n        text-align: right;\n    }\n</style>\n<table border=\"1\" class=\"dataframe\">\n  <thead>\n    <tr style=\"text-align: right;\">\n      <th></th>\n      <th>escolari</th>\n    </tr>\n    <tr>\n      <th>edjefe</th>\n      <th></th>\n    </tr>\n  </thead>\n  <tbody>\n    <tr>\n      <th>yes</th>\n      <td>1</td>\n    </tr>\n  </tbody>\n</table>\n</div>"
          },
          "metadata": {}
        },
        {
          "output_type": "display_data",
          "data": {
            "text/plain": "        escolari\nedjefa          \nyes            1",
            "text/html": "<div>\n<style scoped>\n    .dataframe tbody tr th:only-of-type {\n        vertical-align: middle;\n    }\n\n    .dataframe tbody tr th {\n        vertical-align: top;\n    }\n\n    .dataframe thead th {\n        text-align: right;\n    }\n</style>\n<table border=\"1\" class=\"dataframe\">\n  <thead>\n    <tr style=\"text-align: right;\">\n      <th></th>\n      <th>escolari</th>\n    </tr>\n    <tr>\n      <th>edjefa</th>\n      <th></th>\n    </tr>\n  </thead>\n  <tbody>\n    <tr>\n      <th>yes</th>\n      <td>1</td>\n    </tr>\n  </tbody>\n</table>\n</div>"
          },
          "metadata": {}
        },
        {
          "output_type": "display_data",
          "data": {
            "text/plain": "        escolari\nedjefe          \nyes            1",
            "text/html": "<div>\n<style scoped>\n    .dataframe tbody tr th:only-of-type {\n        vertical-align: middle;\n    }\n\n    .dataframe tbody tr th {\n        vertical-align: top;\n    }\n\n    .dataframe thead th {\n        text-align: right;\n    }\n</style>\n<table border=\"1\" class=\"dataframe\">\n  <thead>\n    <tr style=\"text-align: right;\">\n      <th></th>\n      <th>escolari</th>\n    </tr>\n    <tr>\n      <th>edjefe</th>\n      <th></th>\n    </tr>\n  </thead>\n  <tbody>\n    <tr>\n      <th>yes</th>\n      <td>1</td>\n    </tr>\n  </tbody>\n</table>\n</div>"
          },
          "metadata": {}
        },
        {
          "output_type": "display_data",
          "data": {
            "text/plain": "        escolari\nedjefa          \nyes            1",
            "text/html": "<div>\n<style scoped>\n    .dataframe tbody tr th:only-of-type {\n        vertical-align: middle;\n    }\n\n    .dataframe tbody tr th {\n        vertical-align: top;\n    }\n\n    .dataframe thead th {\n        text-align: right;\n    }\n</style>\n<table border=\"1\" class=\"dataframe\">\n  <thead>\n    <tr style=\"text-align: right;\">\n      <th></th>\n      <th>escolari</th>\n    </tr>\n    <tr>\n      <th>edjefa</th>\n      <th></th>\n    </tr>\n  </thead>\n  <tbody>\n    <tr>\n      <th>yes</th>\n      <td>1</td>\n    </tr>\n  </tbody>\n</table>\n</div>"
          },
          "metadata": {}
        }
      ]
    },
    {
      "metadata": {
        "_uuid": "6fc7a1f331f1398757ee1f9fd19998c63a719fe2"
      },
      "cell_type": "markdown",
      "source": "Apparently, there also seem to be cases of households with no family heads - in this case both `edjefe` and `edjefa` are also a 'no':"
    },
    {
      "metadata": {
        "trusted": true,
        "_uuid": "7679f5262bd8a8f241e16aa2d53140b03d40c7ef"
      },
      "cell_type": "code",
      "source": "for t in data: display(t[select][(t['edjefa'] == 'no') & (t['edjefe'] == 'no') & (t['parentesco1'] == 0)].head(10))",
      "execution_count": 370,
      "outputs": [
        {
          "output_type": "display_data",
          "data": {
            "text/plain": "       idhogar  parentesco1  male  escolari edjefe edjefa  SQBedjefe\n87   2b1a06ddc            0     1        13     no     no          0\n121  d9e9b591a            0     0        14     no     no          0\n122  d9e9b591a            0     1         8     no     no          0\n123  d9e9b591a            0     0         9     no     no          0\n125  d9e9b591a            0     0        14     no     no          0\n166  71bec40bc            0     0         0     no     no          0\n167  71bec40bc            0     1         1     no     no          0\n168  71bec40bc            0     0         5     no     no          0\n169  71bec40bc            0     0         6     no     no          0\n170  71bec40bc            0     0         0     no     no          0",
            "text/html": "<div>\n<style scoped>\n    .dataframe tbody tr th:only-of-type {\n        vertical-align: middle;\n    }\n\n    .dataframe tbody tr th {\n        vertical-align: top;\n    }\n\n    .dataframe thead th {\n        text-align: right;\n    }\n</style>\n<table border=\"1\" class=\"dataframe\">\n  <thead>\n    <tr style=\"text-align: right;\">\n      <th></th>\n      <th>idhogar</th>\n      <th>parentesco1</th>\n      <th>male</th>\n      <th>escolari</th>\n      <th>edjefe</th>\n      <th>edjefa</th>\n      <th>SQBedjefe</th>\n    </tr>\n  </thead>\n  <tbody>\n    <tr>\n      <th>87</th>\n      <td>2b1a06ddc</td>\n      <td>0</td>\n      <td>1</td>\n      <td>13</td>\n      <td>no</td>\n      <td>no</td>\n      <td>0</td>\n    </tr>\n    <tr>\n      <th>121</th>\n      <td>d9e9b591a</td>\n      <td>0</td>\n      <td>0</td>\n      <td>14</td>\n      <td>no</td>\n      <td>no</td>\n      <td>0</td>\n    </tr>\n    <tr>\n      <th>122</th>\n      <td>d9e9b591a</td>\n      <td>0</td>\n      <td>1</td>\n      <td>8</td>\n      <td>no</td>\n      <td>no</td>\n      <td>0</td>\n    </tr>\n    <tr>\n      <th>123</th>\n      <td>d9e9b591a</td>\n      <td>0</td>\n      <td>0</td>\n      <td>9</td>\n      <td>no</td>\n      <td>no</td>\n      <td>0</td>\n    </tr>\n    <tr>\n      <th>125</th>\n      <td>d9e9b591a</td>\n      <td>0</td>\n      <td>0</td>\n      <td>14</td>\n      <td>no</td>\n      <td>no</td>\n      <td>0</td>\n    </tr>\n    <tr>\n      <th>166</th>\n      <td>71bec40bc</td>\n      <td>0</td>\n      <td>0</td>\n      <td>0</td>\n      <td>no</td>\n      <td>no</td>\n      <td>0</td>\n    </tr>\n    <tr>\n      <th>167</th>\n      <td>71bec40bc</td>\n      <td>0</td>\n      <td>1</td>\n      <td>1</td>\n      <td>no</td>\n      <td>no</td>\n      <td>0</td>\n    </tr>\n    <tr>\n      <th>168</th>\n      <td>71bec40bc</td>\n      <td>0</td>\n      <td>0</td>\n      <td>5</td>\n      <td>no</td>\n      <td>no</td>\n      <td>0</td>\n    </tr>\n    <tr>\n      <th>169</th>\n      <td>71bec40bc</td>\n      <td>0</td>\n      <td>0</td>\n      <td>6</td>\n      <td>no</td>\n      <td>no</td>\n      <td>0</td>\n    </tr>\n    <tr>\n      <th>170</th>\n      <td>71bec40bc</td>\n      <td>0</td>\n      <td>0</td>\n      <td>0</td>\n      <td>no</td>\n      <td>no</td>\n      <td>0</td>\n    </tr>\n  </tbody>\n</table>\n</div>"
          },
          "metadata": {}
        },
        {
          "output_type": "display_data",
          "data": {
            "text/plain": "       idhogar  parentesco1  male  escolari edjefe edjefa  SQBedjefe\n381  2d8da9345            0     0         9     no     no          0\n383  2d8da9345            0     0         7     no     no          0\n384  2d8da9345            0     0         7     no     no          0\n419  decc8d8a0            0     1        11     no     no          0\n439  b39a96e5e            0     0         3     no     no          0\n459  c4fec626a            0     1         3     no     no          0\n618  4d6cba397            0     1         6     no     no          0\n619  4d6cba397            0     0         0     no     no          0\n620  4d6cba397            0     1        11     no     no          0\n621  4d6cba397            0     0         0     no     no          0",
            "text/html": "<div>\n<style scoped>\n    .dataframe tbody tr th:only-of-type {\n        vertical-align: middle;\n    }\n\n    .dataframe tbody tr th {\n        vertical-align: top;\n    }\n\n    .dataframe thead th {\n        text-align: right;\n    }\n</style>\n<table border=\"1\" class=\"dataframe\">\n  <thead>\n    <tr style=\"text-align: right;\">\n      <th></th>\n      <th>idhogar</th>\n      <th>parentesco1</th>\n      <th>male</th>\n      <th>escolari</th>\n      <th>edjefe</th>\n      <th>edjefa</th>\n      <th>SQBedjefe</th>\n    </tr>\n  </thead>\n  <tbody>\n    <tr>\n      <th>381</th>\n      <td>2d8da9345</td>\n      <td>0</td>\n      <td>0</td>\n      <td>9</td>\n      <td>no</td>\n      <td>no</td>\n      <td>0</td>\n    </tr>\n    <tr>\n      <th>383</th>\n      <td>2d8da9345</td>\n      <td>0</td>\n      <td>0</td>\n      <td>7</td>\n      <td>no</td>\n      <td>no</td>\n      <td>0</td>\n    </tr>\n    <tr>\n      <th>384</th>\n      <td>2d8da9345</td>\n      <td>0</td>\n      <td>0</td>\n      <td>7</td>\n      <td>no</td>\n      <td>no</td>\n      <td>0</td>\n    </tr>\n    <tr>\n      <th>419</th>\n      <td>decc8d8a0</td>\n      <td>0</td>\n      <td>1</td>\n      <td>11</td>\n      <td>no</td>\n      <td>no</td>\n      <td>0</td>\n    </tr>\n    <tr>\n      <th>439</th>\n      <td>b39a96e5e</td>\n      <td>0</td>\n      <td>0</td>\n      <td>3</td>\n      <td>no</td>\n      <td>no</td>\n      <td>0</td>\n    </tr>\n    <tr>\n      <th>459</th>\n      <td>c4fec626a</td>\n      <td>0</td>\n      <td>1</td>\n      <td>3</td>\n      <td>no</td>\n      <td>no</td>\n      <td>0</td>\n    </tr>\n    <tr>\n      <th>618</th>\n      <td>4d6cba397</td>\n      <td>0</td>\n      <td>1</td>\n      <td>6</td>\n      <td>no</td>\n      <td>no</td>\n      <td>0</td>\n    </tr>\n    <tr>\n      <th>619</th>\n      <td>4d6cba397</td>\n      <td>0</td>\n      <td>0</td>\n      <td>0</td>\n      <td>no</td>\n      <td>no</td>\n      <td>0</td>\n    </tr>\n    <tr>\n      <th>620</th>\n      <td>4d6cba397</td>\n      <td>0</td>\n      <td>1</td>\n      <td>11</td>\n      <td>no</td>\n      <td>no</td>\n      <td>0</td>\n    </tr>\n    <tr>\n      <th>621</th>\n      <td>4d6cba397</td>\n      <td>0</td>\n      <td>0</td>\n      <td>0</td>\n      <td>no</td>\n      <td>no</td>\n      <td>0</td>\n    </tr>\n  </tbody>\n</table>\n</div>"
          },
          "metadata": {}
        }
      ]
    },
    {
      "metadata": {
        "_uuid": "8126a4e89679b23cc81935cda60a86396f1dc2e4"
      },
      "cell_type": "markdown",
      "source": "Inspired by colleagues in this Kaggle competition, we will deal with this issue by replacing `edjefe` and `edjefa` with a single feature that we will name `edjef` - this feature will indicate the years of education of the head of the house, irrispective of the sex (0 if there is none):"
    },
    {
      "metadata": {
        "trusted": true,
        "_uuid": "3a6f26a78a1e55ee9d31aaea6cbc4102279bc888",
        "collapsed": true
      },
      "cell_type": "code",
      "source": "for t in data:\n    di = dict(t[['idhogar', 'escolari']][t['parentesco1'] == 1].values)\n    pe = t[['idhogar', 'parentesco1']].groupby('idhogar').agg('max')\n    di.update(dict(pe[pe['parentesco1'] != 1]['parentesco1']))\n    t['edjef'] = t['idhogar'].map(lambda x: di[x])\n    t.drop(columns=['edjefe', 'edjefa'], inplace=True)",
      "execution_count": 371,
      "outputs": []
    },
    {
      "metadata": {
        "_uuid": "59b0c4c2281caee696fce96a862f5196546b1d87"
      },
      "cell_type": "markdown",
      "source": "> `dependency`\n\nIn case of this feature we also have a squared value (`SQBdependancy`) to help us with the interpretation:"
    },
    {
      "metadata": {
        "trusted": true,
        "_uuid": "5718bb30ab0defead32b7f401bf4a959400b2ff3"
      },
      "cell_type": "code",
      "source": "for t in data: display(t[['dependency', 'SQBdependency']][t['dependency']\n                                                              .isin(['yes', 'no'])].groupby('dependency').agg(['min', 'mean', 'max']))",
      "execution_count": 372,
      "outputs": [
        {
          "output_type": "display_data",
          "data": {
            "text/plain": "           SQBdependency          \n                     min mean  max\ndependency                        \nno                  0.00 0.00 0.00\nyes                 1.00 1.00 1.00",
            "text/html": "<div>\n<style scoped>\n    .dataframe tbody tr th:only-of-type {\n        vertical-align: middle;\n    }\n\n    .dataframe tbody tr th {\n        vertical-align: top;\n    }\n\n    .dataframe thead tr th {\n        text-align: left;\n    }\n\n    .dataframe thead tr:last-of-type th {\n        text-align: right;\n    }\n</style>\n<table border=\"1\" class=\"dataframe\">\n  <thead>\n    <tr>\n      <th></th>\n      <th colspan=\"3\" halign=\"left\">SQBdependency</th>\n    </tr>\n    <tr>\n      <th></th>\n      <th>min</th>\n      <th>mean</th>\n      <th>max</th>\n    </tr>\n    <tr>\n      <th>dependency</th>\n      <th></th>\n      <th></th>\n      <th></th>\n    </tr>\n  </thead>\n  <tbody>\n    <tr>\n      <th>no</th>\n      <td>0.00</td>\n      <td>0.00</td>\n      <td>0.00</td>\n    </tr>\n    <tr>\n      <th>yes</th>\n      <td>1.00</td>\n      <td>1.00</td>\n      <td>1.00</td>\n    </tr>\n  </tbody>\n</table>\n</div>"
          },
          "metadata": {}
        },
        {
          "output_type": "display_data",
          "data": {
            "text/plain": "           SQBdependency          \n                     min mean  max\ndependency                        \nno                  0.00 0.00 0.00\nyes                 1.00 1.00 1.00",
            "text/html": "<div>\n<style scoped>\n    .dataframe tbody tr th:only-of-type {\n        vertical-align: middle;\n    }\n\n    .dataframe tbody tr th {\n        vertical-align: top;\n    }\n\n    .dataframe thead tr th {\n        text-align: left;\n    }\n\n    .dataframe thead tr:last-of-type th {\n        text-align: right;\n    }\n</style>\n<table border=\"1\" class=\"dataframe\">\n  <thead>\n    <tr>\n      <th></th>\n      <th colspan=\"3\" halign=\"left\">SQBdependency</th>\n    </tr>\n    <tr>\n      <th></th>\n      <th>min</th>\n      <th>mean</th>\n      <th>max</th>\n    </tr>\n    <tr>\n      <th>dependency</th>\n      <th></th>\n      <th></th>\n      <th></th>\n    </tr>\n  </thead>\n  <tbody>\n    <tr>\n      <th>no</th>\n      <td>0.00</td>\n      <td>0.00</td>\n      <td>0.00</td>\n    </tr>\n    <tr>\n      <th>yes</th>\n      <td>1.00</td>\n      <td>1.00</td>\n      <td>1.00</td>\n    </tr>\n  </tbody>\n</table>\n</div>"
          },
          "metadata": {}
        }
      ]
    },
    {
      "metadata": {
        "_uuid": "3465ddd1d93fb82ae0db5582e3794f52fe924652"
      },
      "cell_type": "markdown",
      "source": "Easily enough, we should interpret 'yes' as 1 (i.e. full dependancy) and 'no' as 0:"
    },
    {
      "metadata": {
        "trusted": true,
        "_uuid": "76ed020b487bec0070cfd364c88c64bb7e76c659",
        "collapsed": true
      },
      "cell_type": "code",
      "source": "for t in data:\n    t.loc[t['dependency'] == 'yes', 'dependency'] = 1\n    t.loc[t['dependency'] == 'no', 'dependency'] = 0\n    t['dependency'] = t['dependency'].astype('float')",
      "execution_count": 373,
      "outputs": []
    },
    {
      "metadata": {
        "_uuid": "cb7eea929fa6f8bdbe3d55a0b766acf6c4231e5a"
      },
      "cell_type": "markdown",
      "source": "And for a final check to verify that we dealt with all non-numerical features..."
    },
    {
      "metadata": {
        "trusted": true,
        "_uuid": "91ac84907eaf74f27ca88514d760cf7d96a3e662",
        "scrolled": true
      },
      "cell_type": "code",
      "source": "for t in data: display([var for var in t.drop(columns=['Id', 'idhogar']).columns if t[var].dtypes == \"O\"])",
      "execution_count": 374,
      "outputs": [
        {
          "output_type": "display_data",
          "data": {
            "text/plain": "[]"
          },
          "metadata": {}
        },
        {
          "output_type": "display_data",
          "data": {
            "text/plain": "[]"
          },
          "metadata": {}
        }
      ]
    },
    {
      "metadata": {
        "_uuid": "93037980d9b8b92b6347d37e2c0477d77ceaf3f9"
      },
      "cell_type": "markdown",
      "source": "**Aggregating the dataset**\n\nAs per the competition rules, the entries will be evaluated at household (identified through the family head) - and not individual - level. This means aggregating our dataset at household level for model training purposes should be a wise choice.\n\nIn order to do that, we must understand how to aggregate the individual features that we have. To do this effectively, we'll split them into buckets. The approach taken here has largely been inspired by [Will Koehrsen's kernel](https://www.kaggle.com/willkoehrsen/start-here-a-complete-walkthrough).\n\nWe start off with the features that will not be used as independant variables in the training but are essential to infer from the test set:"
    },
    {
      "metadata": {
        "trusted": true,
        "collapsed": true,
        "_uuid": "7f7dee1d3e0678c304d416d17c1ac7328c7641cd"
      },
      "cell_type": "code",
      "source": "id_ = ['Id', 'idhogar', 'Target']",
      "execution_count": 375,
      "outputs": []
    },
    {
      "metadata": {
        "_uuid": "104ced33a401909cfbdbfd6b015dd55ca6c8bbbf"
      },
      "cell_type": "markdown",
      "source": "Then we group the features that refer to individuals and as such will require a form of aggregation. Within this group we distinct between boolean and ordered continuous features as the approach in aggregating these will differ:"
    },
    {
      "metadata": {
        "trusted": true,
        "collapsed": true,
        "_uuid": "3b4b1c10202e00fbf9392f87038315896ab548d8"
      },
      "cell_type": "code",
      "source": "ind_bool = ['v18q', 'dis', 'male', 'female', 'estadocivil1', 'estadocivil2', 'estadocivil3', \n            'estadocivil4', 'estadocivil5', 'estadocivil6', 'estadocivil7', \n            'parentesco1', 'parentesco2',  'parentesco3', 'parentesco4', 'parentesco5', \n            'parentesco6', 'parentesco7', 'parentesco8',  'parentesco9', 'parentesco10', \n            'parentesco11', 'parentesco12', 'instlevel1', 'instlevel2', 'instlevel3', \n            'instlevel4', 'instlevel5', 'instlevel6', 'instlevel7', 'instlevel8', \n            'instlevel9', 'mobilephone']\n\nind_ordered = ['rez_esc', 'escolari', 'age']",
      "execution_count": 376,
      "outputs": []
    },
    {
      "metadata": {
        "_uuid": "31e3cc5b2d741027f6df9ef861c899681e3ef8f9"
      },
      "cell_type": "markdown",
      "source": "Then we have the squared features. Since we will be using a neural network to model the data, removing these from training can prove to be not only possible but even beneficial due to getting rid of potential issues related to collinearity:"
    },
    {
      "metadata": {
        "trusted": true,
        "collapsed": true,
        "_uuid": "929e2bf2bc86ea054b5aa83fb13bc70233a2f23a"
      },
      "cell_type": "code",
      "source": "sqr_ = ['SQBescolari', 'SQBage', 'SQBhogar_total', 'SQBedjefe', \n        'SQBhogar_nin', 'SQBovercrowding', 'SQBdependency', 'SQBmeaned', 'agesq']",
      "execution_count": 377,
      "outputs": []
    },
    {
      "metadata": {
        "_uuid": "cb1c0512e270bc1f9a33e90cbc7872899d95cfaa"
      },
      "cell_type": "markdown",
      "source": "The rest of the variables in our dataset are already at household level so we can take them as is from the household heads observations.\n\nIn order to perform the aggregation effectively, we will temporarily merge the training and test sets into a single frame:"
    },
    {
      "metadata": {
        "trusted": true,
        "collapsed": true,
        "_uuid": "da5728fba6528363aea6c7b2c9e446c6610b619e"
      },
      "cell_type": "code",
      "source": "train_orig = train.copy()\ntest_orig = test.copy()",
      "execution_count": 378,
      "outputs": []
    },
    {
      "metadata": {
        "trusted": true,
        "_uuid": "25117b3e48a6bd86ee6edfffc10c1a6251ef3371",
        "collapsed": true
      },
      "cell_type": "code",
      "source": "frame = test.copy()\nframe['Target'] = np.nan\nframe = frame.append(train)",
      "execution_count": 379,
      "outputs": []
    },
    {
      "metadata": {
        "_uuid": "1bee2482b8e0069fc7ccab0bc52de7ec39397a2a"
      },
      "cell_type": "markdown",
      "source": "We start off by reducing the dataset to family heads only and excluding the individual and squared features:"
    },
    {
      "metadata": {
        "trusted": true,
        "scrolled": true,
        "_uuid": "701af9c7ff4f2d14483413692cdb30878d5731bd",
        "collapsed": true
      },
      "cell_type": "code",
      "source": "frame_agg = frame[frame['parentesco1'] == 1].drop(columns=(sqr_ + ind_bool + ind_ordered))",
      "execution_count": 380,
      "outputs": []
    },
    {
      "metadata": {
        "_uuid": "3e78b367c2300febd147c5ace9e7e4ee05a833a4"
      },
      "cell_type": "markdown",
      "source": "Now, time to create the aggregated individual features. We'll start with the ordered continuous ones, which will be transfomed into household aggregates: minimum, average, maximum and combined values:"
    },
    {
      "metadata": {
        "trusted": true,
        "_uuid": "3fdb73fcf2cdabb3fca0577f3d5c27b4bfb66f8f",
        "collapsed": true
      },
      "cell_type": "code",
      "source": "def agg_features(feats, agg=['min', 'mean', 'max', 'sum']):\n    global frame_agg\n    ind_agg = frame[['idhogar'] + feats].groupby('idhogar').agg(agg)\n    new_cols = []\n    for col in ind_agg.columns.levels[0]:\n        for stat in ind_agg.columns.levels[1]:\n            new_cols.append(f'{col}_{stat}')\n\n    ind_agg.columns = new_cols\n    ind_agg.reset_index(inplace=True)\n    frame_agg = frame_agg.merge(ind_agg, on='idhogar', how='left')",
      "execution_count": 381,
      "outputs": []
    },
    {
      "metadata": {
        "trusted": true,
        "_uuid": "2fa9f77397f7ebc4163fb1d3c6e19145d0d45895",
        "collapsed": true
      },
      "cell_type": "code",
      "source": "agg_features(ind_ordered, agg=['min', 'mean', 'max', 'sum'])",
      "execution_count": 382,
      "outputs": []
    },
    {
      "metadata": {
        "_uuid": "c1ec0dbddb824650a9d5e90ab6de98903d60ddff"
      },
      "cell_type": "markdown",
      "source": "For the boolean individual features we will not need the minimum and maximum values (by definition 0 and 1 for all of them), we'll retain the average and combined household values though:"
    },
    {
      "metadata": {
        "trusted": true,
        "collapsed": true,
        "_uuid": "26da9ed084585643abd1d556e6301a25a53c5fbd"
      },
      "cell_type": "code",
      "source": "agg_features(ind_bool, agg=['mean', 'sum'])",
      "execution_count": 383,
      "outputs": []
    },
    {
      "metadata": {
        "trusted": true,
        "_uuid": "3580a9ed3e4587ee4d8113cedef315f9f659f090",
        "collapsed": true
      },
      "cell_type": "markdown",
      "source": "To further limit collinearity issues, we'll get rid of features that are 99% correlated: "
    },
    {
      "metadata": {
        "trusted": true,
        "_uuid": "f260562e900138541ab717975963a423254c50dc"
      },
      "cell_type": "code",
      "source": "corr_matrix = frame_agg.corr().abs()\nupper = corr_matrix.where(np.triu(np.ones(corr_matrix.shape), k=1).astype(np.bool))\nto_drop = [column for column in upper.columns if any(upper[column] >= 0.99)]\nto_drop",
      "execution_count": 384,
      "outputs": [
        {
          "output_type": "execute_result",
          "execution_count": 384,
          "data": {
            "text/plain": "['area2',\n 'hogar_total',\n 'r4t3',\n 'tamhog',\n 'male_sum',\n 'female_mean',\n 'female_sum']"
          },
          "metadata": {}
        }
      ]
    },
    {
      "metadata": {
        "_uuid": "21a97ec47257a420b6fea9710e8994dba47813e1"
      },
      "cell_type": "markdown",
      "source": "Conclusions:\n1. Not surprisingly, the male and female features are practicaly collinear - it makes a lot of sense to keep just one version.\n1. `hogar_total`, `tamhog` and `r4t3` are duplications of `hhsize`. \n1. `area2` is perfectly collinear with `area1`\n\nIn light of this, we will now dispose of these variables from our set:"
    },
    {
      "metadata": {
        "trusted": true,
        "_uuid": "05e721787338c1305072b3df652df9eef5719612",
        "collapsed": true
      },
      "cell_type": "code",
      "source": "frame_agg.drop(columns=to_drop, inplace=True)",
      "execution_count": 385,
      "outputs": []
    },
    {
      "metadata": {
        "_uuid": "1cb6542f49e50711e607147659a84eef46ec3ad3"
      },
      "cell_type": "markdown",
      "source": "The final step here is to split up the frame back to the train and test sets using `Target` to differentiate between the two:"
    },
    {
      "metadata": {
        "trusted": true,
        "_uuid": "89697dd2b3d2bbb4bc8d82ef527b3711799d8009",
        "collapsed": true
      },
      "cell_type": "code",
      "source": "test = frame_agg[frame_agg['Target'].isna()].drop(columns='Target').copy()\ntrain = frame_agg[~frame_agg['Target'].isna()].copy()",
      "execution_count": 386,
      "outputs": []
    },
    {
      "metadata": {
        "_uuid": "6118e1a284eb6f0885e36babf63fa9101f629a35"
      },
      "cell_type": "markdown",
      "source": "## Balancing the Training Dataset"
    },
    {
      "metadata": {
        "_uuid": "ed72f1b46f3c27b664a004b8feb5e623610c1ede"
      },
      "cell_type": "markdown",
      "source": "As mentioned earlier, before doing any modelling we will need to balance the training dataset. There are various ways to go about this issue. The method chosen for this kernel is performing oversampling of the minority classes with the aid fo k-means clustering, described at length - along with other possible methodologies - [here](https://www.analyticsvidhya.com/blog/2017/03/imbalanced-classification-problem/).\n\nThe basic idea here is that instead of random oversampling of our minority classes (`Target` 1, 2 and 3), we will identify clusters of similar observations within these groups and oversample to a point where the clusters are of equal size. Our primary focus is to have a similar number of observations for all classes, therefore as a point of reference we will enlarge the minority classes to the size of the largest cluster identified in the majority class (`Target` 4). \n\n\n**K-means clustering**\n\nWe will start off by analysing the training set by looking at each `Target` group individually and finding potential clusters within these groups. We will identify the number of such clusters by using the [elbow method](https://en.wikipedia.org/wiki/Elbow_method_(clustering)):"
    },
    {
      "metadata": {
        "trusted": true,
        "collapsed": true,
        "_uuid": "ea699a492f0dc5ea3c2905127bd89ac0fb9c8ca2"
      },
      "cell_type": "code",
      "source": "from sklearn.cluster import KMeans",
      "execution_count": 387,
      "outputs": []
    },
    {
      "metadata": {
        "trusted": true,
        "_uuid": "e7dbbf81523d993409bbce4c3e42159f1f215c0c"
      },
      "cell_type": "code",
      "source": "for t in train[\"Target\"].unique():\n    wcss = []\n    for i in range(1, 11):\n        kmeans = KMeans(n_clusters = i, init = 'k-means++', max_iter = 300, n_init = 10, random_state=random_state)\n        kmeans.fit(train.drop(columns=['Id', 'idhogar'])[train[\"Target\"] == t])\n        wcss.append(kmeans.inertia_)\n    fig = plt.figure()\n    plt.plot(range(1,11), wcss)\n    plt.title(f'Target: {t}')\n    plt.xlabel('Number of clusters')\n    plt.ylabel('WCSS')\nplt.show()",
      "execution_count": 388,
      "outputs": [
        {
          "output_type": "display_data",
          "data": {
            "text/plain": "<matplotlib.figure.Figure at 0x7fc0c1157dd8>",
            "image/png": "[encoded data removed]"
          },
          "metadata": {}
        },
        {
          "output_type": "display_data",
          "data": {
            "text/plain": "<matplotlib.figure.Figure at 0x7fc0d3ca0630>",
            "image/png": "[encoded data removed]"
          },
          "metadata": {}
        },
        {
          "output_type": "display_data",
          "data": {
            "text/plain": "<matplotlib.figure.Figure at 0x7fc0d33b7748>",
            "image/png": "[encoded data removed]"
          },
          "metadata": {}
        },
        {
          "output_type": "display_data",
          "data": {
            "text/plain": "<matplotlib.figure.Figure at 0x7fc188f46e80>",
            "image/png": "[encoded data removed]"
          },
          "metadata": {}
        }
      ]
    },
    {
      "metadata": {
        "trusted": true,
        "collapsed": true,
        "_uuid": "96207b3ccce7645ef7bf8b56e66bebf8ebb2a229"
      },
      "cell_type": "markdown",
      "source": "Based on the above results, our largest group (`Target` = 4) will be split into 6 clusters and the remaining ones into 2 each:"
    },
    {
      "metadata": {
        "trusted": true,
        "collapsed": true,
        "_uuid": "8bf672fd7d0f78734ed15f4e8a5a255ff679a5a2"
      },
      "cell_type": "code",
      "source": "def cluster(kmeans_groups):\n    di = {}\n    for group in kmeans_groups:\n        kmeans = KMeans(n_clusters = group[1], init = 'k-means++', max_iter = 300, n_init = 10, random_state=random_state)\n        di.update(dict(zip(train.index[train['Target'] == group[0]], \n                           [f'{group[0]}_{k}' for k in kmeans.fit_predict(train.drop(columns=['Id', 'idhogar'])[train['Target'] == group[0]])])))\n    train['clusters'] = train.index.map(lambda x: di[x])\n\nkmeans_groups = [[1, 2], [2, 2], [3, 2], [4, 6]]\n\ncluster(kmeans_groups)",
      "execution_count": 389,
      "outputs": []
    },
    {
      "metadata": {
        "_uuid": "a224b8e19944932b5480de2235e6132c1b8b9aa2"
      },
      "cell_type": "markdown",
      "source": "Let's review our newly identified cluster by number of observations:"
    },
    {
      "metadata": {
        "trusted": true,
        "scrolled": true,
        "_uuid": "9ee15f0602ee0a16cfae8902d0b94ef055e0f1f8"
      },
      "cell_type": "code",
      "source": "train[['Target', 'clusters', 'v2a1']].groupby(['Target', 'clusters']).agg(['count', 'mean'])",
      "execution_count": 390,
      "outputs": [
        {
          "output_type": "execute_result",
          "execution_count": 390,
          "data": {
            "text/plain": "                 v2a1             \n                count         mean\nTarget clusters                   \n1.00   1_0        200     3,784.16\n       1_1         22   109,495.27\n2.00   2_0         63   116,187.87\n       2_1        379     2,078.76\n3.00   3_0         50   131,853.22\n       3_1        305     3,531.15\n4.00   4_0       1451     3,415.17\n       4_1         52   489,098.25\n       4_2        323   138,085.52\n       4_3          1 2,353,477.00\n       4_4         10   822,230.70\n       4_5        117   285,539.29",
            "text/html": "<div>\n<style scoped>\n    .dataframe tbody tr th:only-of-type {\n        vertical-align: middle;\n    }\n\n    .dataframe tbody tr th {\n        vertical-align: top;\n    }\n\n    .dataframe thead tr th {\n        text-align: left;\n    }\n\n    .dataframe thead tr:last-of-type th {\n        text-align: right;\n    }\n</style>\n<table border=\"1\" class=\"dataframe\">\n  <thead>\n    <tr>\n      <th></th>\n      <th></th>\n      <th colspan=\"2\" halign=\"left\">v2a1</th>\n    </tr>\n    <tr>\n      <th></th>\n      <th></th>\n      <th>count</th>\n      <th>mean</th>\n    </tr>\n    <tr>\n      <th>Target</th>\n      <th>clusters</th>\n      <th></th>\n      <th></th>\n    </tr>\n  </thead>\n  <tbody>\n    <tr>\n      <th rowspan=\"2\" valign=\"top\">1.00</th>\n      <th>1_0</th>\n      <td>200</td>\n      <td>3,784.16</td>\n    </tr>\n    <tr>\n      <th>1_1</th>\n      <td>22</td>\n      <td>109,495.27</td>\n    </tr>\n    <tr>\n      <th rowspan=\"2\" valign=\"top\">2.00</th>\n      <th>2_0</th>\n      <td>63</td>\n      <td>116,187.87</td>\n    </tr>\n    <tr>\n      <th>2_1</th>\n      <td>379</td>\n      <td>2,078.76</td>\n    </tr>\n    <tr>\n      <th rowspan=\"2\" valign=\"top\">3.00</th>\n      <th>3_0</th>\n      <td>50</td>\n      <td>131,853.22</td>\n    </tr>\n    <tr>\n      <th>3_1</th>\n      <td>305</td>\n      <td>3,531.15</td>\n    </tr>\n    <tr>\n      <th rowspan=\"6\" valign=\"top\">4.00</th>\n      <th>4_0</th>\n      <td>1451</td>\n      <td>3,415.17</td>\n    </tr>\n    <tr>\n      <th>4_1</th>\n      <td>52</td>\n      <td>489,098.25</td>\n    </tr>\n    <tr>\n      <th>4_2</th>\n      <td>323</td>\n      <td>138,085.52</td>\n    </tr>\n    <tr>\n      <th>4_3</th>\n      <td>1</td>\n      <td>2,353,477.00</td>\n    </tr>\n    <tr>\n      <th>4_4</th>\n      <td>10</td>\n      <td>822,230.70</td>\n    </tr>\n    <tr>\n      <th>4_5</th>\n      <td>117</td>\n      <td>285,539.29</td>\n    </tr>\n  </tbody>\n</table>\n</div>"
          },
          "metadata": {}
        }
      ]
    },
    {
      "metadata": {
        "_uuid": "f85da10b42b8b54eecbf0ec6e70e0ee29beca69a"
      },
      "cell_type": "markdown",
      "source": "The 4_3 cluster looks unusually small - only 1 observation! Let's take a closer look:"
    },
    {
      "metadata": {
        "trusted": true,
        "_uuid": "954282860005d370b10a8e39cbf988d61e0a5ebc"
      },
      "cell_type": "code",
      "source": "cl = '4_3'\n\ntrain['idhogar'][train['clusters'] == cl]",
      "execution_count": 391,
      "outputs": [
        {
          "output_type": "execute_result",
          "execution_count": 391,
          "data": {
            "text/plain": "8722    563cc81b7\nName: idhogar, dtype: object"
          },
          "metadata": {}
        }
      ]
    },
    {
      "metadata": {
        "trusted": true,
        "_uuid": "4b8d111c623d186be95fe7c339ac8ec8edd87e17",
        "scrolled": true
      },
      "cell_type": "code",
      "source": "for t in [train[train['clusters'] == cl], train]: display(t.describe())",
      "execution_count": 392,
      "outputs": [
        {
          "output_type": "display_data",
          "data": {
            "text/plain": "       Target  abastaguadentro  abastaguafuera  abastaguano  area1  bedrooms  \\\ncount    1.00             1.00            1.00         1.00   1.00      1.00   \nmean     4.00             1.00            0.00         0.00   1.00      6.00   \nstd       nan              nan             nan          nan    nan       nan   \nmin      4.00             1.00            0.00         0.00   1.00      6.00   \n25%      4.00             1.00            0.00         0.00   1.00      6.00   \n50%      4.00             1.00            0.00         0.00   1.00      6.00   \n75%      4.00             1.00            0.00         0.00   1.00      6.00   \nmax      4.00             1.00            0.00         0.00   1.00      6.00   \n\n       cielorazo  computer  coopele  dependency       ...         \\\ncount       1.00      1.00     1.00        1.00       ...          \nmean        1.00      0.00     0.00        0.00       ...          \nstd          nan       nan      nan         nan       ...          \nmin         1.00      0.00     0.00        0.00       ...          \n25%         1.00      0.00     0.00        0.00       ...          \n50%         1.00      0.00     0.00        0.00       ...          \n75%         1.00      0.00     0.00        0.00       ...          \nmax         1.00      0.00     0.00        0.00       ...          \n\n       instlevel6_mean  instlevel6_sum  instlevel7_mean  instlevel7_sum  \\\ncount             1.00            1.00             1.00            1.00   \nmean              0.00            0.00             0.00            0.00   \nstd                nan             nan              nan             nan   \nmin               0.00            0.00             0.00            0.00   \n25%               0.00            0.00             0.00            0.00   \n50%               0.00            0.00             0.00            0.00   \n75%               0.00            0.00             0.00            0.00   \nmax               0.00            0.00             0.00            0.00   \n\n       instlevel8_mean  instlevel8_sum  instlevel9_mean  instlevel9_sum  \\\ncount             1.00            1.00             1.00            1.00   \nmean              0.50            1.00             0.50            1.00   \nstd                nan             nan              nan             nan   \nmin               0.50            1.00             0.50            1.00   \n25%               0.50            1.00             0.50            1.00   \n50%               0.50            1.00             0.50            1.00   \n75%               0.50            1.00             0.50            1.00   \nmax               0.50            1.00             0.50            1.00   \n\n       mobilephone_mean  mobilephone_sum  \ncount              1.00             1.00  \nmean               1.00             2.00  \nstd                 nan              nan  \nmin                1.00             2.00  \n25%                1.00             2.00  \n50%                1.00             2.00  \n75%                1.00             2.00  \nmax                1.00             2.00  \n\n[8 rows x 166 columns]",
            "text/html": "<div>\n<style scoped>\n    .dataframe tbody tr th:only-of-type {\n        vertical-align: middle;\n    }\n\n    .dataframe tbody tr th {\n        vertical-align: top;\n    }\n\n    .dataframe thead th {\n        text-align: right;\n    }\n</style>\n<table border=\"1\" class=\"dataframe\">\n  <thead>\n    <tr style=\"text-align: right;\">\n      <th></th>\n      <th>Target</th>\n      <th>abastaguadentro</th>\n      <th>abastaguafuera</th>\n      <th>abastaguano</th>\n      <th>area1</th>\n      <th>bedrooms</th>\n      <th>cielorazo</th>\n      <th>computer</th>\n      <th>coopele</th>\n      <th>dependency</th>\n      <th>...</th>\n      <th>instlevel6_mean</th>\n      <th>instlevel6_sum</th>\n      <th>instlevel7_mean</th>\n      <th>instlevel7_sum</th>\n      <th>instlevel8_mean</th>\n      <th>instlevel8_sum</th>\n      <th>instlevel9_mean</th>\n      <th>instlevel9_sum</th>\n      <th>mobilephone_mean</th>\n      <th>mobilephone_sum</th>\n    </tr>\n  </thead>\n  <tbody>\n    <tr>\n      <th>count</th>\n      <td>1.00</td>\n      <td>1.00</td>\n      <td>1.00</td>\n      <td>1.00</td>\n      <td>1.00</td>\n      <td>1.00</td>\n      <td>1.00</td>\n      <td>1.00</td>\n      <td>1.00</td>\n      <td>1.00</td>\n      <td>...</td>\n      <td>1.00</td>\n      <td>1.00</td>\n      <td>1.00</td>\n      <td>1.00</td>\n      <td>1.00</td>\n      <td>1.00</td>\n      <td>1.00</td>\n      <td>1.00</td>\n      <td>1.00</td>\n      <td>1.00</td>\n    </tr>\n    <tr>\n      <th>mean</th>\n      <td>4.00</td>\n      <td>1.00</td>\n      <td>0.00</td>\n      <td>0.00</td>\n      <td>1.00</td>\n      <td>6.00</td>\n      <td>1.00</td>\n      <td>0.00</td>\n      <td>0.00</td>\n      <td>0.00</td>\n      <td>...</td>\n      <td>0.00</td>\n      <td>0.00</td>\n      <td>0.00</td>\n      <td>0.00</td>\n      <td>0.50</td>\n      <td>1.00</td>\n      <td>0.50</td>\n      <td>1.00</td>\n      <td>1.00</td>\n      <td>2.00</td>\n    </tr>\n    <tr>\n      <th>std</th>\n      <td>nan</td>\n      <td>nan</td>\n      <td>nan</td>\n      <td>nan</td>\n      <td>nan</td>\n      <td>nan</td>\n      <td>nan</td>\n      <td>nan</td>\n      <td>nan</td>\n      <td>nan</td>\n      <td>...</td>\n      <td>nan</td>\n      <td>nan</td>\n      <td>nan</td>\n      <td>nan</td>\n      <td>nan</td>\n      <td>nan</td>\n      <td>nan</td>\n      <td>nan</td>\n      <td>nan</td>\n      <td>nan</td>\n    </tr>\n    <tr>\n      <th>min</th>\n      <td>4.00</td>\n      <td>1.00</td>\n      <td>0.00</td>\n      <td>0.00</td>\n      <td>1.00</td>\n      <td>6.00</td>\n      <td>1.00</td>\n      <td>0.00</td>\n      <td>0.00</td>\n      <td>0.00</td>\n      <td>...</td>\n      <td>0.00</td>\n      <td>0.00</td>\n      <td>0.00</td>\n      <td>0.00</td>\n      <td>0.50</td>\n      <td>1.00</td>\n      <td>0.50</td>\n      <td>1.00</td>\n      <td>1.00</td>\n      <td>2.00</td>\n    </tr>\n    <tr>\n      <th>25%</th>\n      <td>4.00</td>\n      <td>1.00</td>\n      <td>0.00</td>\n      <td>0.00</td>\n      <td>1.00</td>\n      <td>6.00</td>\n      <td>1.00</td>\n      <td>0.00</td>\n      <td>0.00</td>\n      <td>0.00</td>\n      <td>...</td>\n      <td>0.00</td>\n      <td>0.00</td>\n      <td>0.00</td>\n      <td>0.00</td>\n      <td>0.50</td>\n      <td>1.00</td>\n      <td>0.50</td>\n      <td>1.00</td>\n      <td>1.00</td>\n      <td>2.00</td>\n    </tr>\n    <tr>\n      <th>50%</th>\n      <td>4.00</td>\n      <td>1.00</td>\n      <td>0.00</td>\n      <td>0.00</td>\n      <td>1.00</td>\n      <td>6.00</td>\n      <td>1.00</td>\n      <td>0.00</td>\n      <td>0.00</td>\n      <td>0.00</td>\n      <td>...</td>\n      <td>0.00</td>\n      <td>0.00</td>\n      <td>0.00</td>\n      <td>0.00</td>\n      <td>0.50</td>\n      <td>1.00</td>\n      <td>0.50</td>\n      <td>1.00</td>\n      <td>1.00</td>\n      <td>2.00</td>\n    </tr>\n    <tr>\n      <th>75%</th>\n      <td>4.00</td>\n      <td>1.00</td>\n      <td>0.00</td>\n      <td>0.00</td>\n      <td>1.00</td>\n      <td>6.00</td>\n      <td>1.00</td>\n      <td>0.00</td>\n      <td>0.00</td>\n      <td>0.00</td>\n      <td>...</td>\n      <td>0.00</td>\n      <td>0.00</td>\n      <td>0.00</td>\n      <td>0.00</td>\n      <td>0.50</td>\n      <td>1.00</td>\n      <td>0.50</td>\n      <td>1.00</td>\n      <td>1.00</td>\n      <td>2.00</td>\n    </tr>\n    <tr>\n      <th>max</th>\n      <td>4.00</td>\n      <td>1.00</td>\n      <td>0.00</td>\n      <td>0.00</td>\n      <td>1.00</td>\n      <td>6.00</td>\n      <td>1.00</td>\n      <td>0.00</td>\n      <td>0.00</td>\n      <td>0.00</td>\n      <td>...</td>\n      <td>0.00</td>\n      <td>0.00</td>\n      <td>0.00</td>\n      <td>0.00</td>\n      <td>0.50</td>\n      <td>1.00</td>\n      <td>0.50</td>\n      <td>1.00</td>\n      <td>1.00</td>\n      <td>2.00</td>\n    </tr>\n  </tbody>\n</table>\n<p>8 rows × 166 columns</p>\n</div>"
          },
          "metadata": {}
        },
        {
          "output_type": "display_data",
          "data": {
            "text/plain": "        Target  abastaguadentro  abastaguafuera  abastaguano    area1  \\\ncount 2,973.00         2,973.00        2,973.00     2,973.00 2,973.00   \nmean      3.36             0.97            0.03         0.00     0.72   \nstd       0.99             0.18            0.17         0.06     0.45   \nmin       1.00             0.00            0.00         0.00     0.00   \n25%       3.00             1.00            0.00         0.00     0.00   \n50%       4.00             1.00            0.00         0.00     1.00   \n75%       4.00             1.00            0.00         0.00     1.00   \nmax       4.00             1.00            1.00         1.00     1.00   \n\n       bedrooms  cielorazo  computer  coopele  dependency       ...         \\\ncount  2,973.00   2,973.00  2,973.00 2,973.00    2,973.00       ...          \nmean       2.58       0.69      0.10     0.11        1.33       ...          \nstd        0.93       0.46      0.30     0.31        2.15       ...          \nmin        1.00       0.00      0.00     0.00        0.00       ...          \n25%        2.00       0.00      0.00     0.00        0.00       ...          \n50%        3.00       1.00      0.00     0.00        0.50       ...          \n75%        3.00       1.00      0.00     0.00        1.00       ...          \nmax        8.00       1.00      1.00     1.00        8.00       ...          \n\n       instlevel6_mean  instlevel6_sum  instlevel7_mean  instlevel7_sum  \\\ncount         2,973.00        2,973.00         2,973.00        2,973.00   \nmean              0.01            0.06             0.02            0.05   \nstd               0.07            0.26             0.08            0.24   \nmin               0.00            0.00             0.00            0.00   \n25%               0.00            0.00             0.00            0.00   \n50%               0.00            0.00             0.00            0.00   \n75%               0.00            0.00             0.00            0.00   \nmax               1.00            3.00             1.00            3.00   \n\n       instlevel8_mean  instlevel8_sum  instlevel9_mean  instlevel9_sum  \\\ncount         2,973.00        2,973.00         2,973.00        2,973.00   \nmean              0.16            0.45             0.02            0.05   \nstd               0.28            0.75             0.11            0.24   \nmin               0.00            0.00             0.00            0.00   \n25%               0.00            0.00             0.00            0.00   \n50%               0.00            0.00             0.00            0.00   \n75%               0.25            1.00             0.00            0.00   \nmax               1.00            5.00             1.00            2.00   \n\n       mobilephone_mean  mobilephone_sum  \ncount          2,973.00         2,973.00  \nmean               0.96             3.13  \nstd                0.20             1.67  \nmin                0.00             0.00  \n25%                1.00             2.00  \n50%                1.00             3.00  \n75%                1.00             4.00  \nmax                1.00            13.00  \n\n[8 rows x 166 columns]",
            "text/html": "<div>\n<style scoped>\n    .dataframe tbody tr th:only-of-type {\n        vertical-align: middle;\n    }\n\n    .dataframe tbody tr th {\n        vertical-align: top;\n    }\n\n    .dataframe thead th {\n        text-align: right;\n    }\n</style>\n<table border=\"1\" class=\"dataframe\">\n  <thead>\n    <tr style=\"text-align: right;\">\n      <th></th>\n      <th>Target</th>\n      <th>abastaguadentro</th>\n      <th>abastaguafuera</th>\n      <th>abastaguano</th>\n      <th>area1</th>\n      <th>bedrooms</th>\n      <th>cielorazo</th>\n      <th>computer</th>\n      <th>coopele</th>\n      <th>dependency</th>\n      <th>...</th>\n      <th>instlevel6_mean</th>\n      <th>instlevel6_sum</th>\n      <th>instlevel7_mean</th>\n      <th>instlevel7_sum</th>\n      <th>instlevel8_mean</th>\n      <th>instlevel8_sum</th>\n      <th>instlevel9_mean</th>\n      <th>instlevel9_sum</th>\n      <th>mobilephone_mean</th>\n      <th>mobilephone_sum</th>\n    </tr>\n  </thead>\n  <tbody>\n    <tr>\n      <th>count</th>\n      <td>2,973.00</td>\n      <td>2,973.00</td>\n      <td>2,973.00</td>\n      <td>2,973.00</td>\n      <td>2,973.00</td>\n      <td>2,973.00</td>\n      <td>2,973.00</td>\n      <td>2,973.00</td>\n      <td>2,973.00</td>\n      <td>2,973.00</td>\n      <td>...</td>\n      <td>2,973.00</td>\n      <td>2,973.00</td>\n      <td>2,973.00</td>\n      <td>2,973.00</td>\n      <td>2,973.00</td>\n      <td>2,973.00</td>\n      <td>2,973.00</td>\n      <td>2,973.00</td>\n      <td>2,973.00</td>\n      <td>2,973.00</td>\n    </tr>\n    <tr>\n      <th>mean</th>\n      <td>3.36</td>\n      <td>0.97</td>\n      <td>0.03</td>\n      <td>0.00</td>\n      <td>0.72</td>\n      <td>2.58</td>\n      <td>0.69</td>\n      <td>0.10</td>\n      <td>0.11</td>\n      <td>1.33</td>\n      <td>...</td>\n      <td>0.01</td>\n      <td>0.06</td>\n      <td>0.02</td>\n      <td>0.05</td>\n      <td>0.16</td>\n      <td>0.45</td>\n      <td>0.02</td>\n      <td>0.05</td>\n      <td>0.96</td>\n      <td>3.13</td>\n    </tr>\n    <tr>\n      <th>std</th>\n      <td>0.99</td>\n      <td>0.18</td>\n      <td>0.17</td>\n      <td>0.06</td>\n      <td>0.45</td>\n      <td>0.93</td>\n      <td>0.46</td>\n      <td>0.30</td>\n      <td>0.31</td>\n      <td>2.15</td>\n      <td>...</td>\n      <td>0.07</td>\n      <td>0.26</td>\n      <td>0.08</td>\n      <td>0.24</td>\n      <td>0.28</td>\n      <td>0.75</td>\n      <td>0.11</td>\n      <td>0.24</td>\n      <td>0.20</td>\n      <td>1.67</td>\n    </tr>\n    <tr>\n      <th>min</th>\n      <td>1.00</td>\n      <td>0.00</td>\n      <td>0.00</td>\n      <td>0.00</td>\n      <td>0.00</td>\n      <td>1.00</td>\n      <td>0.00</td>\n      <td>0.00</td>\n      <td>0.00</td>\n      <td>0.00</td>\n      <td>...</td>\n      <td>0.00</td>\n      <td>0.00</td>\n      <td>0.00</td>\n      <td>0.00</td>\n      <td>0.00</td>\n      <td>0.00</td>\n      <td>0.00</td>\n      <td>0.00</td>\n      <td>0.00</td>\n      <td>0.00</td>\n    </tr>\n    <tr>\n      <th>25%</th>\n      <td>3.00</td>\n      <td>1.00</td>\n      <td>0.00</td>\n      <td>0.00</td>\n      <td>0.00</td>\n      <td>2.00</td>\n      <td>0.00</td>\n      <td>0.00</td>\n      <td>0.00</td>\n      <td>0.00</td>\n      <td>...</td>\n      <td>0.00</td>\n      <td>0.00</td>\n      <td>0.00</td>\n      <td>0.00</td>\n      <td>0.00</td>\n      <td>0.00</td>\n      <td>0.00</td>\n      <td>0.00</td>\n      <td>1.00</td>\n      <td>2.00</td>\n    </tr>\n    <tr>\n      <th>50%</th>\n      <td>4.00</td>\n      <td>1.00</td>\n      <td>0.00</td>\n      <td>0.00</td>\n      <td>1.00</td>\n      <td>3.00</td>\n      <td>1.00</td>\n      <td>0.00</td>\n      <td>0.00</td>\n      <td>0.50</td>\n      <td>...</td>\n      <td>0.00</td>\n      <td>0.00</td>\n      <td>0.00</td>\n      <td>0.00</td>\n      <td>0.00</td>\n      <td>0.00</td>\n      <td>0.00</td>\n      <td>0.00</td>\n      <td>1.00</td>\n      <td>3.00</td>\n    </tr>\n    <tr>\n      <th>75%</th>\n      <td>4.00</td>\n      <td>1.00</td>\n      <td>0.00</td>\n      <td>0.00</td>\n      <td>1.00</td>\n      <td>3.00</td>\n      <td>1.00</td>\n      <td>0.00</td>\n      <td>0.00</td>\n      <td>1.00</td>\n      <td>...</td>\n      <td>0.00</td>\n      <td>0.00</td>\n      <td>0.00</td>\n      <td>0.00</td>\n      <td>0.25</td>\n      <td>1.00</td>\n      <td>0.00</td>\n      <td>0.00</td>\n      <td>1.00</td>\n      <td>4.00</td>\n    </tr>\n    <tr>\n      <th>max</th>\n      <td>4.00</td>\n      <td>1.00</td>\n      <td>1.00</td>\n      <td>1.00</td>\n      <td>1.00</td>\n      <td>8.00</td>\n      <td>1.00</td>\n      <td>1.00</td>\n      <td>1.00</td>\n      <td>8.00</td>\n      <td>...</td>\n      <td>1.00</td>\n      <td>3.00</td>\n      <td>1.00</td>\n      <td>3.00</td>\n      <td>1.00</td>\n      <td>5.00</td>\n      <td>1.00</td>\n      <td>2.00</td>\n      <td>1.00</td>\n      <td>13.00</td>\n    </tr>\n  </tbody>\n</table>\n<p>8 rows × 166 columns</p>\n</div>"
          },
          "metadata": {}
        }
      ]
    },
    {
      "metadata": {
        "_uuid": "e0c13011cfe8dc44d056c38c1d0c097e324386f8"
      },
      "cell_type": "markdown",
      "source": "Looks like we stumbled upon a very wealthy household, not very representative of our dataset. We will exclude this observation from our dataset as an outlier:"
    },
    {
      "metadata": {
        "trusted": true,
        "_uuid": "fbce7e8868c49f45816b84009ffe1a080a1ec74c",
        "collapsed": true
      },
      "cell_type": "code",
      "source": "train = train[~(train['idhogar'] == '563cc81b7')].drop(columns='clusters')",
      "execution_count": 393,
      "outputs": []
    },
    {
      "metadata": {
        "_uuid": "3bd61a28ce9823965477df982facb93ad7ec6922"
      },
      "cell_type": "markdown",
      "source": "Let's rerun the clustering analysis: "
    },
    {
      "metadata": {
        "trusted": true,
        "_uuid": "63e83e4614d167d3185fed4117e298713b0163d6",
        "collapsed": true
      },
      "cell_type": "code",
      "source": "cluster(kmeans_groups)",
      "execution_count": 394,
      "outputs": []
    },
    {
      "metadata": {
        "trusted": true,
        "_uuid": "36b34125914077f5b989be46947f86f95178189e"
      },
      "cell_type": "code",
      "source": "train[['Target', 'clusters', 'v2a1']].groupby(['Target', 'clusters']).agg(['count', 'mean'])",
      "execution_count": 395,
      "outputs": [
        {
          "output_type": "execute_result",
          "execution_count": 395,
          "data": {
            "text/plain": "                 v2a1           \n                count       mean\nTarget clusters                 \n1.00   1_0        200   3,784.16\n       1_1         22 109,495.27\n2.00   2_0         63 116,187.87\n       2_1        379   2,078.76\n3.00   3_0         50 131,853.22\n       3_1        305   3,531.15\n4.00   4_0       1399   1,310.51\n       4_1        182 173,512.62\n       4_2         52 489,098.25\n       4_3         10 822,230.70\n       4_4        207  92,939.19\n       4_5        103 294,310.78",
            "text/html": "<div>\n<style scoped>\n    .dataframe tbody tr th:only-of-type {\n        vertical-align: middle;\n    }\n\n    .dataframe tbody tr th {\n        vertical-align: top;\n    }\n\n    .dataframe thead tr th {\n        text-align: left;\n    }\n\n    .dataframe thead tr:last-of-type th {\n        text-align: right;\n    }\n</style>\n<table border=\"1\" class=\"dataframe\">\n  <thead>\n    <tr>\n      <th></th>\n      <th></th>\n      <th colspan=\"2\" halign=\"left\">v2a1</th>\n    </tr>\n    <tr>\n      <th></th>\n      <th></th>\n      <th>count</th>\n      <th>mean</th>\n    </tr>\n    <tr>\n      <th>Target</th>\n      <th>clusters</th>\n      <th></th>\n      <th></th>\n    </tr>\n  </thead>\n  <tbody>\n    <tr>\n      <th rowspan=\"2\" valign=\"top\">1.00</th>\n      <th>1_0</th>\n      <td>200</td>\n      <td>3,784.16</td>\n    </tr>\n    <tr>\n      <th>1_1</th>\n      <td>22</td>\n      <td>109,495.27</td>\n    </tr>\n    <tr>\n      <th rowspan=\"2\" valign=\"top\">2.00</th>\n      <th>2_0</th>\n      <td>63</td>\n      <td>116,187.87</td>\n    </tr>\n    <tr>\n      <th>2_1</th>\n      <td>379</td>\n      <td>2,078.76</td>\n    </tr>\n    <tr>\n      <th rowspan=\"2\" valign=\"top\">3.00</th>\n      <th>3_0</th>\n      <td>50</td>\n      <td>131,853.22</td>\n    </tr>\n    <tr>\n      <th>3_1</th>\n      <td>305</td>\n      <td>3,531.15</td>\n    </tr>\n    <tr>\n      <th rowspan=\"6\" valign=\"top\">4.00</th>\n      <th>4_0</th>\n      <td>1399</td>\n      <td>1,310.51</td>\n    </tr>\n    <tr>\n      <th>4_1</th>\n      <td>182</td>\n      <td>173,512.62</td>\n    </tr>\n    <tr>\n      <th>4_2</th>\n      <td>52</td>\n      <td>489,098.25</td>\n    </tr>\n    <tr>\n      <th>4_3</th>\n      <td>10</td>\n      <td>822,230.70</td>\n    </tr>\n    <tr>\n      <th>4_4</th>\n      <td>207</td>\n      <td>92,939.19</td>\n    </tr>\n    <tr>\n      <th>4_5</th>\n      <td>103</td>\n      <td>294,310.78</td>\n    </tr>\n  </tbody>\n</table>\n</div>"
          },
          "metadata": {}
        }
      ]
    },
    {
      "metadata": {
        "_uuid": "fbb9742c1c49d003802e5f08c64ad82242f0d58a"
      },
      "cell_type": "markdown",
      "source": "**Creating the validation set**\n\nBefore we move on to oversampling, it will be a good idea to separate the validation set from data we will use in training. To ensure the validation set is representative of the population, we will draw samples applying the split ratio to all clusters individually. The validation set will also remain unbalanced - just like the test set - to make the end results more representative.\n"
    },
    {
      "metadata": {
        "trusted": true,
        "_uuid": "5e10c89a620513880df10bf9769f2043fea6c56f",
        "collapsed": true
      },
      "cell_type": "code",
      "source": "split = 0.2\nval = []\nfor c in train['clusters'].unique(): val += list(train['Id'][train['clusters'] == c].sample(frac=split, random_state=random_state))\nidxs = train['Id'].isin(val)",
      "execution_count": 396,
      "outputs": []
    },
    {
      "metadata": {
        "trusted": true,
        "_uuid": "61f49cf528698bf28e7c744e33f9ce9f2f87e54c"
      },
      "cell_type": "code",
      "source": "t_set = train[~idxs].copy()\nv_set = train[idxs].reset_index(drop=True).copy()\n\nt_set.shape, v_set.shape",
      "execution_count": 397,
      "outputs": [
        {
          "output_type": "execute_result",
          "execution_count": 397,
          "data": {
            "text/plain": "((2378, 169), (594, 169))"
          },
          "metadata": {}
        }
      ]
    },
    {
      "metadata": {
        "_uuid": "8ae867fe20145c11b3fc31f8b05ca6abfeef8b37"
      },
      "cell_type": "markdown",
      "source": "**Oversampling**\n\nTime to perform some oversampling! As mentioned earlier, the minority `Target` classes clusters will be oversampled to match the largest cluster in the set. Within the majority class we will also do some balancing:"
    },
    {
      "metadata": {
        "trusted": true,
        "_uuid": "33880957d38263dd6d7bc206e02e9c7035694b2c",
        "collapsed": true
      },
      "cell_type": "code",
      "source": "def oversample(df):\n    d = df.copy()\n    max_group = d[['clusters', 'v2a1']].groupby(['clusters']).count().max().values[0]\n    for c in d['clusters'].unique():\n        ratio = 1 if c[0] != '4' else 3\n        to_sample = max(int(max_group/ratio) - d['clusters'][d['clusters'] == c].count(), 0)\n        d = d.append(df[df['clusters'] == c].sample(\n            n=to_sample, replace=True, random_state=random_state), ignore_index=True)\n    return d\n             \nt_set = oversample(t_set)",
      "execution_count": 398,
      "outputs": []
    },
    {
      "metadata": {
        "trusted": true,
        "_uuid": "2554e2d40c9a7b51d9a875d8f19878d8c92bb8ff"
      },
      "cell_type": "code",
      "source": "t_set.shape, v_set.shape",
      "execution_count": 399,
      "outputs": [
        {
          "output_type": "execute_result",
          "execution_count": 399,
          "data": {
            "text/plain": "((9698, 169), (594, 169))"
          },
          "metadata": {}
        }
      ]
    },
    {
      "metadata": {
        "trusted": true,
        "_uuid": "7dc3d44b2c9da4b9ac5336ddafec4bfc2a590929"
      },
      "cell_type": "code",
      "source": "for t in [t_set, v_set]: \n    display(t['Target'].hist())\n    plt.figure()\nplt.show()",
      "execution_count": 400,
      "outputs": [
        {
          "output_type": "display_data",
          "data": {
            "text/plain": "<matplotlib.axes._subplots.AxesSubplot at 0x7fc0d387b390>"
          },
          "metadata": {}
        },
        {
          "output_type": "display_data",
          "data": {
            "text/plain": "<matplotlib.axes._subplots.AxesSubplot at 0x7fc0d3759128>"
          },
          "metadata": {}
        },
        {
          "output_type": "display_data",
          "data": {
            "text/plain": "<matplotlib.figure.Figure at 0x7fc0d387bb00>",
            "image/png": "[encoded data removed]"
          },
          "metadata": {}
        },
        {
          "output_type": "display_data",
          "data": {
            "text/plain": "<matplotlib.figure.Figure at 0x7fc0d375c940>",
            "image/png": "[encoded data removed]"
          },
          "metadata": {}
        },
        {
          "output_type": "display_data",
          "data": {
            "text/plain": "<matplotlib.figure.Figure at 0x7fc0d39e6438>"
          },
          "metadata": {}
        }
      ]
    },
    {
      "metadata": {
        "_uuid": "78826dc4f739c519ff79da43cf8c7c8757c3556f"
      },
      "cell_type": "markdown",
      "source": "The training set looks to be a lot more balanced now with respect to the `Target` feature."
    },
    {
      "metadata": {
        "_uuid": "9cd40122e0085e82a605283f994572851ce057a7"
      },
      "cell_type": "markdown",
      "source": "**Feature scaling and final modelling sets**\n\nTime to prepare the final datasets for training and validation. First, let's dispose of the features that will not be used in modelling:"
    },
    {
      "metadata": {
        "trusted": true,
        "_uuid": "0be83c3127846a93855f98fd64bfed51721fe7cd",
        "collapsed": true
      },
      "cell_type": "code",
      "source": "to_drop = ['Id', 'idhogar', 'parentesco1_mean', 'parentesco1_sum']\nX_train = t_set.copy().drop(columns=(to_drop + ['Target', 'clusters']))\nX_val = v_set.copy().drop(columns=(to_drop + ['Target', 'clusters']))",
      "execution_count": 401,
      "outputs": []
    },
    {
      "metadata": {
        "_uuid": "0f8bb2492b537b7330a85361942e118b48b8b2f9"
      },
      "cell_type": "markdown",
      "source": "Before applying a neural network model it's preferable to apply feature scaling to the input matrix - and this will be our next step:"
    },
    {
      "metadata": {
        "trusted": true,
        "_uuid": "3c81592d1d04a047f38238bfd270946523b270b2",
        "collapsed": true
      },
      "cell_type": "code",
      "source": "from sklearn.preprocessing import StandardScaler\nsc = StandardScaler()\n\ndef to_float(df): \n    for c in df.columns: df[c] = df[c].astype('float64')\n    return df\n\nX_train = sc.fit_transform(to_float(X_train))\nX_val = sc.transform(to_float(X_val))",
      "execution_count": 402,
      "outputs": []
    },
    {
      "metadata": {
        "_uuid": "ee3428e51a2653b5345a66c2048dc0997d1a0f92"
      },
      "cell_type": "markdown",
      "source": "Lastly, let's prepare the dependant variable sets:"
    },
    {
      "metadata": {
        "trusted": true,
        "collapsed": true,
        "_uuid": "1264edcbf8832fa1ab4add63619dcdb2ea188531"
      },
      "cell_type": "code",
      "source": "y_train = t_set['Target'].copy().astype('category').cat.as_ordered().astype('float64') - 1\ny_val = v_set['Target'].copy().astype('category').cat.as_ordered().astype('float64') - 1",
      "execution_count": 403,
      "outputs": []
    },
    {
      "metadata": {
        "trusted": true,
        "_uuid": "1e03cced32b64f1130b97c906ef1b980ac4d643b"
      },
      "cell_type": "code",
      "source": "for t in [X_train, y_train, X_val, y_val]: display(t.shape)",
      "execution_count": 404,
      "outputs": [
        {
          "output_type": "display_data",
          "data": {
            "text/plain": "(9698, 163)"
          },
          "metadata": {}
        },
        {
          "output_type": "display_data",
          "data": {
            "text/plain": "(9698,)"
          },
          "metadata": {}
        },
        {
          "output_type": "display_data",
          "data": {
            "text/plain": "(594, 163)"
          },
          "metadata": {}
        },
        {
          "output_type": "display_data",
          "data": {
            "text/plain": "(594,)"
          },
          "metadata": {}
        }
      ]
    },
    {
      "metadata": {
        "_uuid": "30579b07b7d80658dbc73909fd7f7efd162fd775"
      },
      "cell_type": "markdown",
      "source": "## Modelling"
    },
    {
      "metadata": {
        "trusted": true,
        "collapsed": true,
        "_uuid": "0ed80ae05639e975a27085ef8f4946eb9c528565"
      },
      "cell_type": "markdown",
      "source": "As per the competition rules, the results will be evaluated using the macro [F1 score](https://en.wikipedia.org/wiki/F1_score) (surprisingly, not the balanced version).\n\nTo keep track of how we are doing during and after training, we will import this metric from sklearn:"
    },
    {
      "metadata": {
        "trusted": true,
        "_uuid": "2fee5271d8b018512a5301458683f3aeb28a9f8a",
        "collapsed": true
      },
      "cell_type": "code",
      "source": "from sklearn.metrics import f1_score",
      "execution_count": 405,
      "outputs": []
    },
    {
      "metadata": {
        "_uuid": "b7b495262a967ac6791cd64e52a690e0a2275670"
      },
      "cell_type": "markdown",
      "source": "This kernel will be focused on modelling using a neural network framework that we will construct using the famous PyTorch library:"
    },
    {
      "metadata": {
        "trusted": true,
        "collapsed": true,
        "_uuid": "3bda655cf752adef238033e30c251abf3185eb51"
      },
      "cell_type": "code",
      "source": "import torch as t\nimport torch.nn as nn\nfrom torch import autograd, optim\nimport torch.nn.functional as F",
      "execution_count": 406,
      "outputs": []
    },
    {
      "metadata": {
        "trusted": true,
        "collapsed": true,
        "_uuid": "a8f71a4766442c24821449a4655247bf43a9771f"
      },
      "cell_type": "markdown",
      "source": "**Model architecture**\n\nWe start off by defining the model class. To allow some experimentation with the model structure, the number of layers and neurons within layers will be defined by a list where each element represents the number of neurons for a particular layer. We also define a forward method that is executed immediately after class instantiation. \n\nTo limit potential overfitting we will include dropout for all layers of the network. \n\nTo improve training speed and accuracy we will implement batch normalisation at each hidden layer of the network."
    },
    {
      "metadata": {
        "trusted": true,
        "_uuid": "adf8192bc38b5903734f4b75956f3aabe77a100b",
        "collapsed": true
      },
      "cell_type": "code",
      "source": "class Net(nn.Module):\n    \n    def __init__(self, X, y, nodes=[200], p=0, act='lrelu'):\n        super().__init__()\n        self.input_size = X.shape[1]\n        self.output_size = int(y.nunique())\n        self.nodes = nodes\n        self.p = p\n        self.act = act\n        \n        if self.p > 1 or self.p < 0: raise Exception(f\"Expected p to be <0,1> but got {self.p}\")\n        \n        if nodes == []: raise Exception(\"No node sizes input\")\n        \n        self.h1 = nn.Linear(self.input_size, self.nodes[0])       \n        self.hid = nn.ModuleList([nn.Linear(self.nodes[i], self.nodes[i + 1]) for i in range(len(self.nodes) - 1)])\n        self.out = nn.Linear(self.nodes[-1], self.output_size)\n        \n        self.bn = nn.ModuleList([nn.BatchNorm1d(self.nodes[i]) for i in range(1, len(self.nodes))])\n        \n#         for mod in enumerate(self.modules()):\n#             if mod[0] > 0: mod[1].weight = nn.init.kaiming_normal(mod[1].weight)\n        \n        if self.act == 'lrelu': self.act1 = F.leaky_relu\n        elif self.act == 'relu': self.act1 = F.relu\n        elif self.act == 'tanh': self.act1 = F.tanh\n        else: raise Exception(\"Invalid activation function - choose between lrelu, relu or tanh\")\n        \n        self.act2 = F.softmax\n        \n    def forward(self, X):\n        self.inp = autograd.Variable(t.cuda.FloatTensor(X))\n        \n        o = self.act1(self.h1(self.inp))\n        \n        for h, b in zip(self.hid, self.bn):\n            o = F.dropout(b(self.act1(h(o))), p=self.p)\n        \n        o = self.act2(self.out(o), dim=1)\n        return o",
      "execution_count": 407,
      "outputs": []
    },
    {
      "metadata": {
        "_uuid": "f73827cc402ff82108a1bb800a48fba027f55186"
      },
      "cell_type": "markdown",
      "source": "**Training the model**\n\nNow time to define the model training function. It's basic features are as follows:\n* by default, it implements Stochastic Gradient Descent (with index reshuffling at each epoch)\n* updates that include the current loss and F1 score on the training and validation sets are printed in epoch intervals specified by `update_cycle`\n* the 'standard' training cycle is where parameter adjustment runs for the stated number of epochs and at the stated learning rate\n* apart from the standard training, it is possible to define `t_cycles` as an integer higher than the default 1. This will mean that after the standard training, there will be an additional sequence of training cycles, with the number of epochs doubled and learning rate halved at each cycle. This way as we close in on the minimum, we reduce the learning rate to not overshoot."
    },
    {
      "metadata": {
        "trusted": true,
        "collapsed": true,
        "_uuid": "bad8029bf71ee2c388635691bbe790cb6b1daf6c"
      },
      "cell_type": "code",
      "source": "def train_nn(model, n_epochs=10000, lr=1e-6, bs=900, wd=0, update_cycle=200, use_SGD=True, t_cycles=1, updates=True, cycle_double=True):\n    loss_plt = []\n    f1s = []\n    vf1s = []\n    opt = optim.Adam(params=model.parameters(), lr=lr, weight_decay=wd)\n    targ = autograd.Variable(t.cuda.FloatTensor(y_train.values).long())\n\n    for i in range(1, t_cycles + 1):\n        if t_cycles > 1 and updates: print('='*100, f'\\nCycle: {i}, Current Learning Rate: {lr}, Epochs at Cycle: {n_epochs} - updates every {update_cycle} epoch')\n        \n        for epoch in range(1, n_epochs + 1):\n            targ.require_grad = False\n\n            if use_SGD:\n                idxs = np.arange(len(X_train))\n                np.random.shuffle(idxs)\n                for b in range(0, len(X_train), bs):\n                    loss = 0\n                    targb = autograd.Variable(t.cuda.FloatTensor(y_train.values[idxs[b:b+bs]]).long())\n                    targb.require_grad = False\n                    out = model(X_train[idxs[b:b+bs]])      \n                    loss = F.nll_loss(out, targb)\n            else:\n                loss = 0\n                out = model(X_train)\n                loss = F.nll_loss(out, targ)\n            \n            model.zero_grad()\n            loss.backward()\n            opt.step()\n            if epoch % update_cycle == 0:\n                out = model(X_train)\n                loss = F.nll_loss(out, targ)\n                loss_plt.append(loss.cpu().data.numpy())\n                vout = model(X_val)\n                f1 = f1_score(y_train.values, out.max(dim=1)[1].cpu().data.numpy(), average='macro')\n                vf1 = f1_score(y_val.values, vout.max(dim=1)[1].cpu().data.numpy(), average='macro')\n                f1s.append(f1)\n                vf1s.append(vf1)\n                if updates: print(\"_\"*50,'\\n', f'Epoch: {epoch}, Training Loss: {loss.cpu().data.numpy()}, Training F1: {f1}, Validation F1: {vf1}')\n        lr /= 10\n        if cycle_double: \n            n_epochs *= 2\n            update_cycle *= 2\n    print(f'Final validation F1: {vf1s[-1:][0]}')\n    return model, vf1s[-1:][0]",
      "execution_count": 408,
      "outputs": []
    },
    {
      "metadata": {
        "_uuid": "774e2be387bde2465f8bd24be9c975b1990954e4"
      },
      "cell_type": "markdown",
      "source": "Before commencing with the training, we will implement a couple of ideas on top of the current framework.\n\nThe first one is a quasi-cyclical learning rate, inspired by [this paper](https://arxiv.org/abs/1506.01186). In our implementation this will mean the cycle of gradually reducing the learning rate and increasing the number of epochs described earlier will be repeated a number of times, specified by the `cycles` parameter.\n\nIn addition, we will also add in an element of ensamble learning. The training sample is relatively small for neural network training purposes, leading to relatively high variance in the results from a single trained neural network, therefore we will train a number of such networks (specified by `n_models`) and average the predictions over the whole group.\n\nLastly, the threshold parameter (`stop_threshold`) will indicate the level of the validation F1 score sufficient to cease training of a single network in order to move to training the next one.\n\nWe will plot the F1 validation scores of particular models and the average across the group."
    },
    {
      "metadata": {
        "trusted": true,
        "collapsed": true,
        "_uuid": "a7c8f82e71e43aee61328f2462a5cc66edc6e1a5"
      },
      "cell_type": "code",
      "source": "\ndef train_ensamble(nodes = [89, 89], p = 0.7, wd = 1e-7, lr = 1e-1, bs = (int(X_train.shape[0] / 4 + 1)),\n             t_cycles = 6, epochs_per_cycle = 1, cycle_double = True, cycles = 1, n_models = 31, stop_threshold = 0.46):\n    \n    global models\n    models = []\n    for n in range(n_models): models.append(Net(X_train, y_train, nodes=nodes, p=p).cuda())\n\n\n    # main training loop:\n    final_res = []\n    mod = 1\n    for model in models:\n        print('='*50, f'\\nMODEL {mod}')\n        model.train(mode=True)\n        for i in range(1, cycles + 1): \n            print(f'Cycle {i}')\n            _, res = train_nn(model, n_epochs = epochs_per_cycle, \n                              lr = lr, bs = bs, wd=wd, update_cycle=epochs_per_cycle, t_cycles = t_cycles, \n                              updates=False, cycle_double=cycle_double)\n            if res >= stop_threshold: break\n        final_res.append(res)\n        mod +=1\n    plt.scatter(np.arange(len(final_res)), final_res)\n    plt.plot([np.mean(final_res) for a in range(len(final_res))], color='r', linestyle=':')\n    plt.show()",
      "execution_count": 409,
      "outputs": []
    },
    {
      "metadata": {
        "trusted": true,
        "_uuid": "9ff8fff26410947ebb04514c59c2007e2ad4628d"
      },
      "cell_type": "code",
      "source": "%%time\ntrain_ensamble()",
      "execution_count": 410,
      "outputs": [
        {
          "output_type": "stream",
          "text": "================================================== \nMODEL 1\nCycle 1\nFinal validation F1: 0.3839779532807049\n================================================== \nMODEL 2\nCycle 1\nFinal validation F1: 0.38195025578172564\n================================================== \nMODEL 3\nCycle 1\nFinal validation F1: 0.4017244585391697\n================================================== \nMODEL 4\nCycle 1\nFinal validation F1: 0.37251405055649556\n================================================== \nMODEL 5\nCycle 1\nFinal validation F1: 0.3946619028948415\n================================================== \nMODEL 6\nCycle 1\nFinal validation F1: 0.3690083544073357\n================================================== \nMODEL 7\nCycle 1\nFinal validation F1: 0.3830519137577253\n================================================== \nMODEL 8\nCycle 1\nFinal validation F1: 0.4054151637031457\n================================================== \nMODEL 9\nCycle 1\nFinal validation F1: 0.37500239412004116\n================================================== \nMODEL 10\nCycle 1\n",
          "name": "stdout"
        },
        {
          "output_type": "stream",
          "text": "/opt/conda/lib/python3.6/site-packages/sklearn/metrics/classification.py:1135: UndefinedMetricWarning: F-score is ill-defined and being set to 0.0 in labels with no predicted samples.\n  'precision', 'predicted', average, warn_for)\n",
          "name": "stderr"
        },
        {
          "output_type": "stream",
          "text": "Final validation F1: 0.40037533970696493\n================================================== \nMODEL 11\nCycle 1\nFinal validation F1: 0.39602064027278977\n================================================== \nMODEL 12\nCycle 1\nFinal validation F1: 0.37349354795527956\n================================================== \nMODEL 13\nCycle 1\nFinal validation F1: 0.3939998960609162\n================================================== \nMODEL 14\nCycle 1\nFinal validation F1: 0.37580701394337845\n================================================== \nMODEL 15\nCycle 1\nFinal validation F1: 0.38243367960596963\n================================================== \nMODEL 16\nCycle 1\nFinal validation F1: 0.4187161682739755\n================================================== \nMODEL 17\nCycle 1\nFinal validation F1: 0.37370628181234894\n================================================== \nMODEL 18\nCycle 1\nFinal validation F1: 0.3879779255210766\n================================================== \nMODEL 19\nCycle 1\nFinal validation F1: 0.36636764097049723\n================================================== \nMODEL 20\nCycle 1\nFinal validation F1: 0.37548737105784036\n================================================== \nMODEL 21\nCycle 1\nFinal validation F1: 0.3499692038192552\n================================================== \nMODEL 22\nCycle 1\nFinal validation F1: 0.35658761927866733\n================================================== \nMODEL 23\nCycle 1\nFinal validation F1: 0.40202141787661677\n================================================== \nMODEL 24\nCycle 1\nFinal validation F1: 0.38249968818475244\n================================================== \nMODEL 25\nCycle 1\nFinal validation F1: 0.3669648383004752\n================================================== \nMODEL 26\nCycle 1\nFinal validation F1: 0.4039972315295115\n================================================== \nMODEL 27\nCycle 1\nFinal validation F1: 0.3788031014860016\n================================================== \nMODEL 28\nCycle 1\nFinal validation F1: 0.37400695023731584\n================================================== \nMODEL 29\nCycle 1\nFinal validation F1: 0.38971146460427647\n================================================== \nMODEL 30\nCycle 1\nFinal validation F1: 0.3822683093017816\n================================================== \nMODEL 31\nCycle 1\nFinal validation F1: 0.3817223380638246\n",
          "name": "stdout"
        },
        {
          "output_type": "display_data",
          "data": {
            "text/plain": "<matplotlib.figure.Figure at 0x7fc0d37beef0>",
            "image/png": "[encoded data removed]"
          },
          "metadata": {}
        },
        {
          "output_type": "stream",
          "text": "CPU times: user 36 s, sys: 6.21 s, total: 42.2 s\nWall time: 42.2 s\n",
          "name": "stdout"
        }
      ]
    },
    {
      "metadata": {
        "_uuid": "6956e8d68802b2691b2029a070fdfec11c9f4f4d"
      },
      "cell_type": "markdown",
      "source": "The next step is to define the predict function for the ensamble, which - as mentioned - will basically be an average of predictions across all models:"
    },
    {
      "metadata": {
        "trusted": true,
        "_uuid": "89496c1e28c77a9846a7f91aba8f9158eb328ca5",
        "collapsed": true
      },
      "cell_type": "code",
      "source": "def ensamble_predict(models, x):\n    pred = np.zeros((x.shape[0], 4))\n    for model in models: \n        pred += (model.train(mode=False)(x).cpu().data.numpy() / len(models))\n    return np.array([pred[r].argmax(axis=0) for r in range(len(pred))])",
      "execution_count": 411,
      "outputs": []
    },
    {
      "metadata": {
        "_uuid": "42841258056d7e6fec65c6bc341dc7e3fd2d055e"
      },
      "cell_type": "markdown",
      "source": "And now to check the validation F1 score of the ensamble:"
    },
    {
      "metadata": {
        "trusted": true,
        "_uuid": "af0f99404ea0489d7f25d95f976784fd2bf1088f"
      },
      "cell_type": "code",
      "source": "f1_score(y_val.values, ensamble_predict(models, X_val), average='macro')",
      "execution_count": 412,
      "outputs": [
        {
          "output_type": "execute_result",
          "execution_count": 412,
          "data": {
            "text/plain": "0.40336523740155217"
          },
          "metadata": {}
        }
      ]
    },
    {
      "metadata": {
        "_uuid": "b47eb0df02dfcf8d7bd833c4c36838e839a5a07d"
      },
      "cell_type": "markdown",
      "source": "## Reviewing the Results"
    },
    {
      "metadata": {
        "_uuid": "1f211c7030edd1af7882d24c9b7e46a9e41b302c"
      },
      "cell_type": "markdown",
      "source": "**Confusion matrix**\n\nTime to review the model results. Firstly, let's look at the confusion matrix:"
    },
    {
      "metadata": {
        "trusted": true,
        "collapsed": true,
        "_uuid": "d7641c62ce5d8bf3174646f34cf43b57f08243c4"
      },
      "cell_type": "code",
      "source": "from sklearn.metrics import confusion_matrix\n\ndef conf_mat(targ, preds):\n    cm = confusion_matrix(targ, preds)\n    cmp = pd.DataFrame(cm)\n    cmp.index.name = 'Actuals'\n    cmp.columns.name = 'Preds'\n\n    plt.figure(figsize=(5, 5))\n    plt.title(\"CONFUSION MATRIX\")\n    sns.heatmap(cmp, annot=True, cmap=\"seismic\", fmt='.0f')\n\n    plt.tight_layout()",
      "execution_count": 413,
      "outputs": []
    },
    {
      "metadata": {
        "trusted": true,
        "_uuid": "35d51ad115e5ef0076f09be1517828ebf279669a"
      },
      "cell_type": "code",
      "source": "targ = y_val.values\npreds = ensamble_predict(models, X_val)\n\nconf_mat(targ, preds)",
      "execution_count": 414,
      "outputs": [
        {
          "output_type": "display_data",
          "data": {
            "text/plain": "<matplotlib.figure.Figure at 0x7fc0d39f8518>",
            "image/png": "[encoded data removed]"
          },
          "metadata": {}
        }
      ]
    },
    {
      "metadata": {
        "_uuid": "62c0500737981ab5e403656ee57c802ff7d25ea5"
      },
      "cell_type": "markdown",
      "source": "The results reveal a somewhat low accuracy of the model, in particular in the minority classes. Judging from F1 scores within this ballpark obtained by other participants in the challenge, this is most likely a result of a relatively small sample used for training."
    },
    {
      "metadata": {
        "_uuid": "d4c9d4366306711ebc757486cbf7a0345207d26c"
      },
      "cell_type": "markdown",
      "source": "**Feature importance**\n\nLet's review the most important features according to our trained network. The way we define feature importance here is by measuring how much the trainin F1 score deteriorates if a given feature is randomly shuffled and passed along with the rest of the original features through the model. We will order the features by maximum impact and review the top contributors."
    },
    {
      "metadata": {
        "trusted": true,
        "collapsed": true,
        "_uuid": "52bc6efd1e7ac220a85f16b89bf9c58c25686521"
      },
      "cell_type": "code",
      "source": "scores = []\ndef f_i(df, num_features = 15):\n    global scores\n    scores = []\n    Xb = to_float(t_set.copy().drop(columns=(to_drop+['Target', 'clusters'])))\n    targ = f1_score(y_train.values, ensamble_predict(models, sc.transform(Xb)), average='macro')\n\n    for c in Xb.columns:\n        X = Xb.copy()\n        X[c] = X[[c]].sample(frac=1, random_state=random_state).set_index(X.index)[c]\n        scores.append([c, targ - f1_score(y_train.values, ensamble_predict(models, sc.transform(X)), average='macro')])\n\n    scores = sorted(scores, key=lambda x: x[1], reverse=True)\n    pos = np.arange(len(scores))\n    scores_names = [x[0] for x in scores]\n    scores_f1 = [x[1] for x in scores]\n\n    plt.figure(figsize=(8, 6))\n    plt.title('All Features')\n    plt.plot(scores_f1)\n    plt.tight_layout()\n    \n    plt.figure(figsize=(8, 6))\n    plt.title(f'Top {num_features} Features')\n    plt.barh(pos[:num_features], scores_f1[:num_features], align='center')\n    plt.yticks(pos[:num_features], scores_names[:num_features])\n    plt.gca().invert_yaxis()\n    \n    plt.show()",
      "execution_count": 415,
      "outputs": []
    },
    {
      "metadata": {
        "trusted": true,
        "_uuid": "d7ca9314635f63a0e8cc9cdd2d1a20b0f3d42af7",
        "scrolled": true
      },
      "cell_type": "code",
      "source": "f_i(t_set, num_features=25)",
      "execution_count": 416,
      "outputs": [
        {
          "output_type": "display_data",
          "data": {
            "text/plain": "<matplotlib.figure.Figure at 0x7fc0c3c7e978>",
            "image/png": "[encoded data removed]"
          },
          "metadata": {}
        },
        {
          "output_type": "display_data",
          "data": {
            "text/plain": "<matplotlib.figure.Figure at 0x7fc0c196f1d0>",
            "image/png": "[encoded data removed]"
          },
          "metadata": {}
        }
      ]
    },
    {
      "metadata": {
        "_uuid": "4003e3e5a39cc9941afa02d84ad95d776a1a81ee"
      },
      "cell_type": "markdown",
      "source": ""
    },
    {
      "metadata": {
        "_uuid": "c81b2e4e09c7e2503508a295e85294da3c1324ef"
      },
      "cell_type": "markdown",
      "source": "## Prediction on the Test Set"
    },
    {
      "metadata": {
        "_uuid": "573782a0d4c38062cb2640a76b7e1f583e3336b2"
      },
      "cell_type": "markdown",
      "source": "Alright, now it's finally time to use the algorithm on the Test Set. Since the results need to be shared by individual, we will first predict the `Target` for households and then map them to the individuals using `idhogar`:"
    },
    {
      "metadata": {
        "trusted": true,
        "_uuid": "f198379b47b3b83fd9ca8e1c2567a8f225ba9dcd",
        "collapsed": true
      },
      "cell_type": "code",
      "source": "X_test = sc.transform(test.drop(columns=to_drop))\ndi = dict(zip(test['idhogar'], ensamble_predict(models, X_test) + 1))\nsub = test_orig[['Id', 'idhogar']].copy()\nsub['Target'] = sub['idhogar'].map(di).fillna(4)\nsub.drop(columns='idhogar', inplace=True)",
      "execution_count": null,
      "outputs": []
    },
    {
      "metadata": {
        "_uuid": "7d3bba413ff8cc65c4cbf36f42115f28c36c41fa"
      },
      "cell_type": "markdown",
      "source": "Finally, time to prepare the submission csv file:"
    },
    {
      "metadata": {
        "trusted": true,
        "_uuid": "710d97325ff2007f02ea3d3345a86a1920bd91b2",
        "collapsed": true
      },
      "cell_type": "code",
      "source": "from datetime import datetime\nnow = datetime.now().strftime('%y-%m-%d-%H_%M')\n\nname = f'submission_{now}'\nsub = sub.set_index('Id')\nsub['Target'] = sub['Target'].astype('int')\nsub.to_csv(name + '.csv')",
      "execution_count": null,
      "outputs": []
    },
    {
      "metadata": {
        "trusted": true,
        "_uuid": "9003792a8f5d5809e8e92ee40a6af010b2fb7cfc",
        "collapsed": true
      },
      "cell_type": "code",
      "source": "pd.read_csv(name + '.csv').head()",
      "execution_count": null,
      "outputs": []
    }
  ],
  "metadata": {
    "kernelspec": {
      "display_name": "Python 3",
      "language": "python",
      "name": "python3"
    },
    "language_info": {
      "name": "python",
      "version": "3.6.4",
      "mimetype": "text/x-python",
      "codemirror_mode": {
        "name": "ipython",
        "version": 3
      },
      "pygments_lexer": "ipython3",
      "nbconvert_exporter": "python",
      "file_extension": ".py"
    }
  },
  "nbformat": 4,
  "nbformat_minor": 1
}